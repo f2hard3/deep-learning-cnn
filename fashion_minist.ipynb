{
 "cells": [
  {
   "cell_type": "code",
   "execution_count": 1,
   "metadata": {},
   "outputs": [],
   "source": [
    "# This Python 3 environment comes with many helpful analytics libraries installed\n",
    "# It is defined by the kaggle/python Docker image: https://github.com/kaggle/docker-python\n",
    "# For example, here's several helpful packages to load\n",
    "\n",
    "import numpy as np # linear algebra\n",
    "import pandas as pd # data processing, CSV file I/O (e.g. pd.read_csv)\n",
    "\n",
    "# Input data files are available in the read-only \"../input/\" directory\n",
    "# For example, running this (by clicking run or pressing Shift+Enter) will list all files under the input directory\n",
    "\n",
    "import os\n",
    "for dirname, _, filenames in os.walk('/kaggle/input'):\n",
    "    for filename in filenames:\n",
    "        print(os.path.join(dirname, filename))\n",
    "\n",
    "# You can write up to 20GB to the current directory (/kaggle/working/) that gets preserved as output when you create a version using \"Save & Run All\" \n",
    "# You can also write temporary files to /kaggle/temp/, but they won't be saved outside of the current session"
   ]
  },
  {
   "cell_type": "code",
   "execution_count": 2,
   "metadata": {},
   "outputs": [
    {
     "name": "stdout",
     "output_type": "stream",
     "text": [
      "Downloading data from https://storage.googleapis.com/tensorflow/tf-keras-datasets/train-labels-idx1-ubyte.gz\n",
      "32768/29515 [=================================] - 0s 0us/step\n",
      "Downloading data from https://storage.googleapis.com/tensorflow/tf-keras-datasets/train-images-idx3-ubyte.gz\n",
      "26427392/26421880 [==============================] - 3s 0us/step\n",
      "Downloading data from https://storage.googleapis.com/tensorflow/tf-keras-datasets/t10k-labels-idx1-ubyte.gz\n",
      "8192/5148 [===============================================] - 0s 1us/step\n",
      "Downloading data from https://storage.googleapis.com/tensorflow/tf-keras-datasets/t10k-images-idx3-ubyte.gz\n",
      "4423680/4422102 [==============================] - 0s 0us/step\n"
     ]
    },
    {
     "data": {
      "text/plain": [
       "((60000, 28, 28), (60000,), (10000, 28, 28), (10000,))"
      ]
     },
     "execution_count": 2,
     "metadata": {},
     "output_type": "execute_result"
    }
   ],
   "source": [
    "from tensorflow.keras.datasets import fashion_mnist\n",
    "\n",
    "(train_images, train_labels), (test_images, test_labels) = fashion_mnist.load_data()\n",
    "\n",
    "train_images.shape, train_labels.shape, test_images.shape, test_labels.shape"
   ]
  },
  {
   "cell_type": "code",
   "execution_count": 3,
   "metadata": {},
   "outputs": [
    {
     "data": {
      "text/plain": [
       "Text(0.5, 1.0, '9')"
      ]
     },
     "execution_count": 3,
     "metadata": {},
     "output_type": "execute_result"
    },
    {
     "data": {
      "image/png": "[encoded data removed]",
      "text/plain": [
       "<Figure size 432x288 with 1 Axes>"
      ]
     },
     "metadata": {
      "needs_background": "light"
     },
     "output_type": "display_data"
    }
   ],
   "source": [
    "import matplotlib.pyplot as plt\n",
    "\n",
    "plt.imshow(train_images[0], cmap='gray')\n",
    "plt.title(train_labels[0])"
   ]
  },
  {
   "cell_type": "code",
   "execution_count": 4,
   "metadata": {},
   "outputs": [
    {
     "data": {
      "text/plain": [
       "(array([[  0,   0,   0,   0,   0,   0,   0,   0,   0,   0,   0,   0,   0,\n",
       "           0,   0,   0,   0,   0,   0,   0,   0,   0,   0,   0,   0,   0,\n",
       "           0,   0],\n",
       "        [  0,   0,   0,   0,   0,   0,   0,   0,   0,   0,   0,   0,   0,\n",
       "           0,   0,   0,   0,   0,   0,   0,   0,   0,   0,   0,   0,   0,\n",
       "           0,   0],\n",
       "        [  0,   0,   0,   0,   0,   0,   0,   0,   0,   0,   0,   0,   0,\n",
       "           0,   0,   0,   0,   0,   0,   0,   0,   0,   0,   0,   0,   0,\n",
       "           0,   0],\n",
       "        [  0,   0,   0,   0,   0,   0,   0,   0,   0,   0,   0,   0,   1,\n",
       "           0,   0,  13,  73,   0,   0,   1,   4,   0,   0,   0,   0,   1,\n",
       "           1,   0],\n",
       "        [  0,   0,   0,   0,   0,   0,   0,   0,   0,   0,   0,   0,   3,\n",
       "           0,  36, 136, 127,  62,  54,   0,   0,   0,   1,   3,   4,   0,\n",
       "           0,   3],\n",
       "        [  0,   0,   0,   0,   0,   0,   0,   0,   0,   0,   0,   0,   6,\n",
       "           0, 102, 204, 176, 134, 144, 123,  23,   0,   0,   0,   0,  12,\n",
       "          10,   0],\n",
       "        [  0,   0,   0,   0,   0,   0,   0,   0,   0,   0,   0,   0,   0,\n",
       "           0, 155, 236, 207, 178, 107, 156, 161, 109,  64,  23,  77, 130,\n",
       "          72,  15],\n",
       "        [  0,   0,   0,   0,   0,   0,   0,   0,   0,   0,   0,   1,   0,\n",
       "          69, 207, 223, 218, 216, 216, 163, 127, 121, 122, 146, 141,  88,\n",
       "         172,  66],\n",
       "        [  0,   0,   0,   0,   0,   0,   0,   0,   0,   1,   1,   1,   0,\n",
       "         200, 232, 232, 233, 229, 223, 223, 215, 213, 164, 127, 123, 196,\n",
       "         229,   0],\n",
       "        [  0,   0,   0,   0,   0,   0,   0,   0,   0,   0,   0,   0,   0,\n",
       "         183, 225, 216, 223, 228, 235, 227, 224, 222, 224, 221, 223, 245,\n",
       "         173,   0],\n",
       "        [  0,   0,   0,   0,   0,   0,   0,   0,   0,   0,   0,   0,   0,\n",
       "         193, 228, 218, 213, 198, 180, 212, 210, 211, 213, 223, 220, 243,\n",
       "         202,   0],\n",
       "        [  0,   0,   0,   0,   0,   0,   0,   0,   0,   1,   3,   0,  12,\n",
       "         219, 220, 212, 218, 192, 169, 227, 208, 218, 224, 212, 226, 197,\n",
       "         209,  52],\n",
       "        [  0,   0,   0,   0,   0,   0,   0,   0,   0,   0,   6,   0,  99,\n",
       "         244, 222, 220, 218, 203, 198, 221, 215, 213, 222, 220, 245, 119,\n",
       "         167,  56],\n",
       "        [  0,   0,   0,   0,   0,   0,   0,   0,   0,   4,   0,   0,  55,\n",
       "         236, 228, 230, 228, 240, 232, 213, 218, 223, 234, 217, 217, 209,\n",
       "          92,   0],\n",
       "        [  0,   0,   1,   4,   6,   7,   2,   0,   0,   0,   0,   0, 237,\n",
       "         226, 217, 223, 222, 219, 222, 221, 216, 223, 229, 215, 218, 255,\n",
       "          77,   0],\n",
       "        [  0,   3,   0,   0,   0,   0,   0,   0,   0,  62, 145, 204, 228,\n",
       "         207, 213, 221, 218, 208, 211, 218, 224, 223, 219, 215, 224, 244,\n",
       "         159,   0],\n",
       "        [  0,   0,   0,   0,  18,  44,  82, 107, 189, 228, 220, 222, 217,\n",
       "         226, 200, 205, 211, 230, 224, 234, 176, 188, 250, 248, 233, 238,\n",
       "         215,   0],\n",
       "        [  0,  57, 187, 208, 224, 221, 224, 208, 204, 214, 208, 209, 200,\n",
       "         159, 245, 193, 206, 223, 255, 255, 221, 234, 221, 211, 220, 232,\n",
       "         246,   0],\n",
       "        [  3, 202, 228, 224, 221, 211, 211, 214, 205, 205, 205, 220, 240,\n",
       "          80, 150, 255, 229, 221, 188, 154, 191, 210, 204, 209, 222, 228,\n",
       "         225,   0],\n",
       "        [ 98, 233, 198, 210, 222, 229, 229, 234, 249, 220, 194, 215, 217,\n",
       "         241,  65,  73, 106, 117, 168, 219, 221, 215, 217, 223, 223, 224,\n",
       "         229,  29],\n",
       "        [ 75, 204, 212, 204, 193, 205, 211, 225, 216, 185, 197, 206, 198,\n",
       "         213, 240, 195, 227, 245, 239, 223, 218, 212, 209, 222, 220, 221,\n",
       "         230,  67],\n",
       "        [ 48, 203, 183, 194, 213, 197, 185, 190, 194, 192, 202, 214, 219,\n",
       "         221, 220, 236, 225, 216, 199, 206, 186, 181, 177, 172, 181, 205,\n",
       "         206, 115],\n",
       "        [  0, 122, 219, 193, 179, 171, 183, 196, 204, 210, 213, 207, 211,\n",
       "         210, 200, 196, 194, 191, 195, 191, 198, 192, 176, 156, 167, 177,\n",
       "         210,  92],\n",
       "        [  0,   0,  74, 189, 212, 191, 175, 172, 175, 181, 185, 188, 189,\n",
       "         188, 193, 198, 204, 209, 210, 210, 211, 188, 188, 194, 192, 216,\n",
       "         170,   0],\n",
       "        [  2,   0,   0,   0,  66, 200, 222, 237, 239, 242, 246, 243, 244,\n",
       "         221, 220, 193, 191, 179, 182, 182, 181, 176, 166, 168,  99,  58,\n",
       "           0,   0],\n",
       "        [  0,   0,   0,   0,   0,   0,   0,  40,  61,  44,  72,  41,  35,\n",
       "           0,   0,   0,   0,   0,   0,   0,   0,   0,   0,   0,   0,   0,\n",
       "           0,   0],\n",
       "        [  0,   0,   0,   0,   0,   0,   0,   0,   0,   0,   0,   0,   0,\n",
       "           0,   0,   0,   0,   0,   0,   0,   0,   0,   0,   0,   0,   0,\n",
       "           0,   0],\n",
       "        [  0,   0,   0,   0,   0,   0,   0,   0,   0,   0,   0,   0,   0,\n",
       "           0,   0,   0,   0,   0,   0,   0,   0,   0,   0,   0,   0,   0,\n",
       "           0,   0]], dtype=uint8),\n",
       " 9)"
      ]
     },
     "execution_count": 4,
     "metadata": {},
     "output_type": "execute_result"
    }
   ],
   "source": [
    "train_images[0, :, :], train_labels[0]"
   ]
  },
  {
   "cell_type": "code",
   "execution_count": 14,
   "metadata": {},
   "outputs": [
    {
     "data": {
      "image/png": "[encoded data removed]",
      "text/plain": [
       "<Figure size 1584x432 with 8 Axes>"
      ]
     },
     "metadata": {
      "needs_background": "light"
     },
     "output_type": "display_data"
    },
    {
     "data": {
      "image/png": "[encoded data removed]",
      "text/plain": [
       "<Figure size 1584x432 with 8 Axes>"
      ]
     },
     "metadata": {
      "needs_background": "light"
     },
     "output_type": "display_data"
    }
   ],
   "source": [
    "class_names = ['T-shirt/top', 'Trouser', 'Pullover', 'Dress', 'Coat', 'Sandal', 'Shirt', 'Sneaker', 'Bag', 'Ankle boot']\n",
    "\n",
    "def show_images(images, labels, ncols=8):\n",
    "  figure, axs = plt.subplots(figsize=(22, 6), nrows=1, ncols=ncols)\n",
    "  for i in range(ncols):\n",
    "    axs[i].imshow(images[i], cmap='gray')\n",
    "    axs[i].set_title(class_names[labels[i]])\n",
    "\n",
    "show_images(train_images[:8], train_labels[:8], ncols=8)\n",
    "show_images(train_images[8:16], train_labels[8:16], ncols=8)"
   ]
  },
  {
   "cell_type": "code",
   "execution_count": 15,
   "metadata": {},
   "outputs": [
    {
     "data": {
      "text/plain": [
       "((60000, 28, 28), (60000,), (10000, 28, 28), (10000,))"
      ]
     },
     "execution_count": 15,
     "metadata": {},
     "output_type": "execute_result"
    }
   ],
   "source": [
    "(train_images, train_labels), (test_images, test_labels) = fashion_mnist.load_data()\n",
    "\n",
    "def preprocess_data(images, labels):\n",
    "  images = np.array(images/255.0, dtype=np.float32)\n",
    "  labels = np.array(labels, dtype=np.float32)\n",
    "\n",
    "  return images, labels\n",
    "\n",
    "train_images, train_labels = preprocess_data(train_images, train_labels)\n",
    "test_images, test_labels = preprocess_data(test_images, test_labels)\n",
    "\n",
    "train_images.shape, train_labels.shape, test_images.shape, test_labels.shape"
   ]
  },
  {
   "cell_type": "code",
   "execution_count": 16,
   "metadata": {},
   "outputs": [
    {
     "data": {
      "text/plain": [
       "array([[0.        , 0.        , 0.        , 0.        , 0.        ,\n",
       "        0.        , 0.        , 0.        , 0.        , 0.        ,\n",
       "        0.        , 0.        , 0.        , 0.        , 0.        ,\n",
       "        0.        , 0.        , 0.        , 0.        , 0.        ,\n",
       "        0.        , 0.        , 0.        , 0.        , 0.        ,\n",
       "        0.        , 0.        , 0.        ],\n",
       "       [0.        , 0.        , 0.        , 0.        , 0.        ,\n",
       "        0.        , 0.        , 0.        , 0.        , 0.        ,\n",
       "        0.        , 0.        , 0.        , 0.        , 0.        ,\n",
       "        0.        , 0.        , 0.        , 0.        , 0.        ,\n",
       "        0.        , 0.        , 0.        , 0.        , 0.        ,\n",
       "        0.        , 0.        , 0.        ],\n",
       "       [0.        , 0.        , 0.        , 0.        , 0.        ,\n",
       "        0.        , 0.        , 0.        , 0.        , 0.        ,\n",
       "        0.        , 0.        , 0.        , 0.        , 0.        ,\n",
       "        0.        , 0.        , 0.        , 0.        , 0.        ,\n",
       "        0.        , 0.        , 0.        , 0.        , 0.        ,\n",
       "        0.        , 0.        , 0.        ],\n",
       "       [0.        , 0.        , 0.        , 0.        , 0.        ,\n",
       "        0.        , 0.        , 0.        , 0.        , 0.        ,\n",
       "        0.        , 0.        , 0.00392157, 0.        , 0.        ,\n",
       "        0.05098039, 0.28627452, 0.        , 0.        , 0.00392157,\n",
       "        0.01568628, 0.        , 0.        , 0.        , 0.        ,\n",
       "        0.00392157, 0.00392157, 0.        ],\n",
       "       [0.        , 0.        , 0.        , 0.        , 0.        ,\n",
       "        0.        , 0.        , 0.        , 0.        , 0.        ,\n",
       "        0.        , 0.        , 0.01176471, 0.        , 0.14117648,\n",
       "        0.53333336, 0.49803922, 0.24313726, 0.21176471, 0.        ,\n",
       "        0.        , 0.        , 0.00392157, 0.01176471, 0.01568628,\n",
       "        0.        , 0.        , 0.01176471],\n",
       "       [0.        , 0.        , 0.        , 0.        , 0.        ,\n",
       "        0.        , 0.        , 0.        , 0.        , 0.        ,\n",
       "        0.        , 0.        , 0.02352941, 0.        , 0.4       ,\n",
       "        0.8       , 0.6901961 , 0.5254902 , 0.5647059 , 0.48235294,\n",
       "        0.09019608, 0.        , 0.        , 0.        , 0.        ,\n",
       "        0.04705882, 0.03921569, 0.        ],\n",
       "       [0.        , 0.        , 0.        , 0.        , 0.        ,\n",
       "        0.        , 0.        , 0.        , 0.        , 0.        ,\n",
       "        0.        , 0.        , 0.        , 0.        , 0.60784316,\n",
       "        0.9254902 , 0.8117647 , 0.69803923, 0.41960785, 0.6117647 ,\n",
       "        0.6313726 , 0.42745098, 0.2509804 , 0.09019608, 0.3019608 ,\n",
       "        0.50980395, 0.28235295, 0.05882353],\n",
       "       [0.        , 0.        , 0.        , 0.        , 0.        ,\n",
       "        0.        , 0.        , 0.        , 0.        , 0.        ,\n",
       "        0.        , 0.00392157, 0.        , 0.27058825, 0.8117647 ,\n",
       "        0.8745098 , 0.85490197, 0.84705883, 0.84705883, 0.6392157 ,\n",
       "        0.49803922, 0.4745098 , 0.47843137, 0.57254905, 0.5529412 ,\n",
       "        0.34509805, 0.6745098 , 0.25882354],\n",
       "       [0.        , 0.        , 0.        , 0.        , 0.        ,\n",
       "        0.        , 0.        , 0.        , 0.        , 0.00392157,\n",
       "        0.00392157, 0.00392157, 0.        , 0.78431374, 0.9098039 ,\n",
       "        0.9098039 , 0.9137255 , 0.8980392 , 0.8745098 , 0.8745098 ,\n",
       "        0.84313726, 0.8352941 , 0.6431373 , 0.49803922, 0.48235294,\n",
       "        0.76862746, 0.8980392 , 0.        ],\n",
       "       [0.        , 0.        , 0.        , 0.        , 0.        ,\n",
       "        0.        , 0.        , 0.        , 0.        , 0.        ,\n",
       "        0.        , 0.        , 0.        , 0.7176471 , 0.88235295,\n",
       "        0.84705883, 0.8745098 , 0.89411765, 0.92156863, 0.8901961 ,\n",
       "        0.8784314 , 0.87058824, 0.8784314 , 0.8666667 , 0.8745098 ,\n",
       "        0.9607843 , 0.6784314 , 0.        ],\n",
       "       [0.        , 0.        , 0.        , 0.        , 0.        ,\n",
       "        0.        , 0.        , 0.        , 0.        , 0.        ,\n",
       "        0.        , 0.        , 0.        , 0.75686276, 0.89411765,\n",
       "        0.85490197, 0.8352941 , 0.7764706 , 0.7058824 , 0.83137256,\n",
       "        0.8235294 , 0.827451  , 0.8352941 , 0.8745098 , 0.8627451 ,\n",
       "        0.9529412 , 0.7921569 , 0.        ],\n",
       "       [0.        , 0.        , 0.        , 0.        , 0.        ,\n",
       "        0.        , 0.        , 0.        , 0.        , 0.00392157,\n",
       "        0.01176471, 0.        , 0.04705882, 0.85882354, 0.8627451 ,\n",
       "        0.83137256, 0.85490197, 0.7529412 , 0.6627451 , 0.8901961 ,\n",
       "        0.8156863 , 0.85490197, 0.8784314 , 0.83137256, 0.8862745 ,\n",
       "        0.77254903, 0.81960785, 0.20392157],\n",
       "       [0.        , 0.        , 0.        , 0.        , 0.        ,\n",
       "        0.        , 0.        , 0.        , 0.        , 0.        ,\n",
       "        0.02352941, 0.        , 0.3882353 , 0.95686275, 0.87058824,\n",
       "        0.8627451 , 0.85490197, 0.79607844, 0.7764706 , 0.8666667 ,\n",
       "        0.84313726, 0.8352941 , 0.87058824, 0.8627451 , 0.9607843 ,\n",
       "        0.46666667, 0.654902  , 0.21960784],\n",
       "       [0.        , 0.        , 0.        , 0.        , 0.        ,\n",
       "        0.        , 0.        , 0.        , 0.        , 0.01568628,\n",
       "        0.        , 0.        , 0.21568628, 0.9254902 , 0.89411765,\n",
       "        0.9019608 , 0.89411765, 0.9411765 , 0.9098039 , 0.8352941 ,\n",
       "        0.85490197, 0.8745098 , 0.91764706, 0.8509804 , 0.8509804 ,\n",
       "        0.81960785, 0.36078432, 0.        ],\n",
       "       [0.        , 0.        , 0.00392157, 0.01568628, 0.02352941,\n",
       "        0.02745098, 0.00784314, 0.        , 0.        , 0.        ,\n",
       "        0.        , 0.        , 0.92941177, 0.8862745 , 0.8509804 ,\n",
       "        0.8745098 , 0.87058824, 0.85882354, 0.87058824, 0.8666667 ,\n",
       "        0.84705883, 0.8745098 , 0.8980392 , 0.84313726, 0.85490197,\n",
       "        1.        , 0.3019608 , 0.        ],\n",
       "       [0.        , 0.01176471, 0.        , 0.        , 0.        ,\n",
       "        0.        , 0.        , 0.        , 0.        , 0.24313726,\n",
       "        0.5686275 , 0.8       , 0.89411765, 0.8117647 , 0.8352941 ,\n",
       "        0.8666667 , 0.85490197, 0.8156863 , 0.827451  , 0.85490197,\n",
       "        0.8784314 , 0.8745098 , 0.85882354, 0.84313726, 0.8784314 ,\n",
       "        0.95686275, 0.62352943, 0.        ],\n",
       "       [0.        , 0.        , 0.        , 0.        , 0.07058824,\n",
       "        0.17254902, 0.32156864, 0.41960785, 0.7411765 , 0.89411765,\n",
       "        0.8627451 , 0.87058824, 0.8509804 , 0.8862745 , 0.78431374,\n",
       "        0.8039216 , 0.827451  , 0.9019608 , 0.8784314 , 0.91764706,\n",
       "        0.6901961 , 0.7372549 , 0.98039216, 0.972549  , 0.9137255 ,\n",
       "        0.93333334, 0.84313726, 0.        ],\n",
       "       [0.        , 0.22352941, 0.73333335, 0.8156863 , 0.8784314 ,\n",
       "        0.8666667 , 0.8784314 , 0.8156863 , 0.8       , 0.8392157 ,\n",
       "        0.8156863 , 0.81960785, 0.78431374, 0.62352943, 0.9607843 ,\n",
       "        0.75686276, 0.80784315, 0.8745098 , 1.        , 1.        ,\n",
       "        0.8666667 , 0.91764706, 0.8666667 , 0.827451  , 0.8627451 ,\n",
       "        0.9098039 , 0.9647059 , 0.        ],\n",
       "       [0.01176471, 0.7921569 , 0.89411765, 0.8784314 , 0.8666667 ,\n",
       "        0.827451  , 0.827451  , 0.8392157 , 0.8039216 , 0.8039216 ,\n",
       "        0.8039216 , 0.8627451 , 0.9411765 , 0.3137255 , 0.5882353 ,\n",
       "        1.        , 0.8980392 , 0.8666667 , 0.7372549 , 0.6039216 ,\n",
       "        0.7490196 , 0.8235294 , 0.8       , 0.81960785, 0.87058824,\n",
       "        0.89411765, 0.88235295, 0.        ],\n",
       "       [0.38431373, 0.9137255 , 0.7764706 , 0.8235294 , 0.87058824,\n",
       "        0.8980392 , 0.8980392 , 0.91764706, 0.9764706 , 0.8627451 ,\n",
       "        0.7607843 , 0.84313726, 0.8509804 , 0.94509804, 0.25490198,\n",
       "        0.28627452, 0.41568628, 0.45882353, 0.65882355, 0.85882354,\n",
       "        0.8666667 , 0.84313726, 0.8509804 , 0.8745098 , 0.8745098 ,\n",
       "        0.8784314 , 0.8980392 , 0.11372549],\n",
       "       [0.29411766, 0.8       , 0.83137256, 0.8       , 0.75686276,\n",
       "        0.8039216 , 0.827451  , 0.88235295, 0.84705883, 0.7254902 ,\n",
       "        0.77254903, 0.80784315, 0.7764706 , 0.8352941 , 0.9411765 ,\n",
       "        0.7647059 , 0.8901961 , 0.9607843 , 0.9372549 , 0.8745098 ,\n",
       "        0.85490197, 0.83137256, 0.81960785, 0.87058824, 0.8627451 ,\n",
       "        0.8666667 , 0.9019608 , 0.2627451 ],\n",
       "       [0.1882353 , 0.79607844, 0.7176471 , 0.7607843 , 0.8352941 ,\n",
       "        0.77254903, 0.7254902 , 0.74509805, 0.7607843 , 0.7529412 ,\n",
       "        0.7921569 , 0.8392157 , 0.85882354, 0.8666667 , 0.8627451 ,\n",
       "        0.9254902 , 0.88235295, 0.84705883, 0.78039217, 0.80784315,\n",
       "        0.7294118 , 0.70980394, 0.69411767, 0.6745098 , 0.70980394,\n",
       "        0.8039216 , 0.80784315, 0.4509804 ],\n",
       "       [0.        , 0.47843137, 0.85882354, 0.75686276, 0.7019608 ,\n",
       "        0.67058825, 0.7176471 , 0.76862746, 0.8       , 0.8235294 ,\n",
       "        0.8352941 , 0.8117647 , 0.827451  , 0.8235294 , 0.78431374,\n",
       "        0.76862746, 0.7607843 , 0.7490196 , 0.7647059 , 0.7490196 ,\n",
       "        0.7764706 , 0.7529412 , 0.6901961 , 0.6117647 , 0.654902  ,\n",
       "        0.69411767, 0.8235294 , 0.36078432],\n",
       "       [0.        , 0.        , 0.2901961 , 0.7411765 , 0.83137256,\n",
       "        0.7490196 , 0.6862745 , 0.6745098 , 0.6862745 , 0.70980394,\n",
       "        0.7254902 , 0.7372549 , 0.7411765 , 0.7372549 , 0.75686276,\n",
       "        0.7764706 , 0.8       , 0.81960785, 0.8235294 , 0.8235294 ,\n",
       "        0.827451  , 0.7372549 , 0.7372549 , 0.7607843 , 0.7529412 ,\n",
       "        0.84705883, 0.6666667 , 0.        ],\n",
       "       [0.00784314, 0.        , 0.        , 0.        , 0.25882354,\n",
       "        0.78431374, 0.87058824, 0.92941177, 0.9372549 , 0.9490196 ,\n",
       "        0.9647059 , 0.9529412 , 0.95686275, 0.8666667 , 0.8627451 ,\n",
       "        0.75686276, 0.7490196 , 0.7019608 , 0.7137255 , 0.7137255 ,\n",
       "        0.70980394, 0.6901961 , 0.6509804 , 0.65882355, 0.3882353 ,\n",
       "        0.22745098, 0.        , 0.        ],\n",
       "       [0.        , 0.        , 0.        , 0.        , 0.        ,\n",
       "        0.        , 0.        , 0.15686275, 0.23921569, 0.17254902,\n",
       "        0.28235295, 0.16078432, 0.13725491, 0.        , 0.        ,\n",
       "        0.        , 0.        , 0.        , 0.        , 0.        ,\n",
       "        0.        , 0.        , 0.        , 0.        , 0.        ,\n",
       "        0.        , 0.        , 0.        ],\n",
       "       [0.        , 0.        , 0.        , 0.        , 0.        ,\n",
       "        0.        , 0.        , 0.        , 0.        , 0.        ,\n",
       "        0.        , 0.        , 0.        , 0.        , 0.        ,\n",
       "        0.        , 0.        , 0.        , 0.        , 0.        ,\n",
       "        0.        , 0.        , 0.        , 0.        , 0.        ,\n",
       "        0.        , 0.        , 0.        ],\n",
       "       [0.        , 0.        , 0.        , 0.        , 0.        ,\n",
       "        0.        , 0.        , 0.        , 0.        , 0.        ,\n",
       "        0.        , 0.        , 0.        , 0.        , 0.        ,\n",
       "        0.        , 0.        , 0.        , 0.        , 0.        ,\n",
       "        0.        , 0.        , 0.        , 0.        , 0.        ,\n",
       "        0.        , 0.        , 0.        ]], dtype=float32)"
      ]
     },
     "execution_count": 16,
     "metadata": {},
     "output_type": "execute_result"
    }
   ],
   "source": [
    "train_images[0]"
   ]
  },
  {
   "cell_type": "code",
   "execution_count": 17,
   "metadata": {},
   "outputs": [],
   "source": [
    "INPUT_SIZE = 28"
   ]
  },
  {
   "cell_type": "code",
   "execution_count": 18,
   "metadata": {},
   "outputs": [
    {
     "name": "stdout",
     "output_type": "stream",
     "text": [
      "Model: \"sequential\"\n",
      "_________________________________________________________________\n",
      "Layer (type)                 Output Shape              Param #   \n",
      "=================================================================\n",
      "flatten (Flatten)            (None, 784)               0         \n",
      "_________________________________________________________________\n",
      "dense (Dense)                (None, 100)               78500     \n",
      "_________________________________________________________________\n",
      "dense_1 (Dense)              (None, 30)                3030      \n",
      "_________________________________________________________________\n",
      "dense_2 (Dense)              (None, 10)                310       \n",
      "=================================================================\n",
      "Total params: 81,840\n",
      "Trainable params: 81,840\n",
      "Non-trainable params: 0\n",
      "_________________________________________________________________\n"
     ]
    },
    {
     "name": "stderr",
     "output_type": "stream",
     "text": [
      "2022-09-14 10:31:04.568793: I tensorflow/core/platform/cpu_feature_guard.cc:142] This TensorFlow binary is optimized with oneAPI Deep Neural Network Library (oneDNN) to use the following CPU instructions in performance-critical operations:  SSE4.1 SSE4.2 AVX AVX2 FMA\n",
      "To enable them in other operations, rebuild TensorFlow with the appropriate compiler flags.\n"
     ]
    }
   ],
   "source": [
    "from tensorflow.keras.layers import Dense, Flatten\n",
    "from tensorflow.keras.models import Sequential\n",
    "\n",
    "model = Sequential([\n",
    "  Flatten(input_shape=(INPUT_SIZE, INPUT_SIZE)),\n",
    "  Dense(100, activation='relu'),\n",
    "  Dense(30, activation='relu'),\n",
    "  Dense(10, activation='softmax')\n",
    "])\n",
    "\n",
    "model.summary()"
   ]
  },
  {
   "cell_type": "code",
   "execution_count": 19,
   "metadata": {},
   "outputs": [],
   "source": [
    "from tensorflow.keras.optimizers import Adam\n",
    "# from tensorflow.keras.losses import CategoricalCrossentropy\n",
    "# from tensorflow.keras.metrics import Accuracy\n",
    "\n",
    "model.compile(optimizer=Adam(0.001), loss='categorical_crossentropy', metrics=['accuracy'])"
   ]
  },
  {
   "cell_type": "code",
   "execution_count": 20,
   "metadata": {},
   "outputs": [
    {
     "data": {
      "text/plain": [
       "((60000, 10), (10000, 10))"
      ]
     },
     "execution_count": 20,
     "metadata": {},
     "output_type": "execute_result"
    }
   ],
   "source": [
    "from tensorflow.keras.utils import to_categorical\n",
    "\n",
    "train_oh_labels = to_categorical(train_labels)\n",
    "test_oh_labels = to_categorical(test_labels)\n",
    "\n",
    "train_oh_labels.shape, test_oh_labels.shape"
   ]
  },
  {
   "cell_type": "code",
   "execution_count": 21,
   "metadata": {},
   "outputs": [
    {
     "data": {
      "text/plain": [
       "array([[0., 0., 0., 0., 0., 0., 0., 0., 0., 1.],\n",
       "       [1., 0., 0., 0., 0., 0., 0., 0., 0., 0.],\n",
       "       [1., 0., 0., 0., 0., 0., 0., 0., 0., 0.],\n",
       "       [0., 0., 0., 1., 0., 0., 0., 0., 0., 0.],\n",
       "       [1., 0., 0., 0., 0., 0., 0., 0., 0., 0.]], dtype=float32)"
      ]
     },
     "execution_count": 21,
     "metadata": {},
     "output_type": "execute_result"
    }
   ],
   "source": [
    "train_oh_labels[:5]"
   ]
  },
  {
   "cell_type": "code",
   "execution_count": 23,
   "metadata": {},
   "outputs": [
    {
     "name": "stderr",
     "output_type": "stream",
     "text": [
      "2022-09-14 10:59:42.254356: I tensorflow/compiler/mlir/mlir_graph_optimization_pass.cc:116] None of the MLIR optimization passes are enabled (registered 2)\n"
     ]
    },
    {
     "name": "stdout",
     "output_type": "stream",
     "text": [
      "Epoch 1/20\n",
      "1875/1875 [==============================] - 3s 1ms/step - loss: 0.6530 - accuracy: 0.7699\n",
      "Epoch 2/20\n",
      "1875/1875 [==============================] - 2s 1ms/step - loss: 0.3868 - accuracy: 0.8596\n",
      "Epoch 3/20\n",
      "1875/1875 [==============================] - 2s 1ms/step - loss: 0.3419 - accuracy: 0.8753\n",
      "Epoch 4/20\n",
      "1875/1875 [==============================] - 2s 1ms/step - loss: 0.3183 - accuracy: 0.8822\n",
      "Epoch 5/20\n",
      "1875/1875 [==============================] - 2s 1ms/step - loss: 0.3010 - accuracy: 0.8889\n",
      "Epoch 6/20\n",
      "1875/1875 [==============================] - 2s 1ms/step - loss: 0.2868 - accuracy: 0.8953\n",
      "Epoch 7/20\n",
      "1875/1875 [==============================] - 2s 960us/step - loss: 0.2788 - accuracy: 0.8953\n",
      "Epoch 8/20\n",
      "1875/1875 [==============================] - 2s 1ms/step - loss: 0.2596 - accuracy: 0.9022\n",
      "Epoch 9/20\n",
      "1875/1875 [==============================] - 2s 1ms/step - loss: 0.2596 - accuracy: 0.9017\n",
      "Epoch 10/20\n",
      "1875/1875 [==============================] - 2s 1ms/step - loss: 0.2455 - accuracy: 0.9080\n",
      "Epoch 11/20\n",
      "1875/1875 [==============================] - 3s 1ms/step - loss: 0.2375 - accuracy: 0.9115\n",
      "Epoch 12/20\n",
      "1875/1875 [==============================] - 2s 1ms/step - loss: 0.2329 - accuracy: 0.9128\n",
      "Epoch 13/20\n",
      "1875/1875 [==============================] - 2s 1ms/step - loss: 0.2242 - accuracy: 0.9169\n",
      "Epoch 14/20\n",
      "1875/1875 [==============================] - 2s 1ms/step - loss: 0.2217 - accuracy: 0.9167\n",
      "Epoch 15/20\n",
      "1875/1875 [==============================] - 2s 984us/step - loss: 0.2144 - accuracy: 0.9199\n",
      "Epoch 16/20\n",
      "1875/1875 [==============================] - 2s 965us/step - loss: 0.2092 - accuracy: 0.9222\n",
      "Epoch 17/20\n",
      "1875/1875 [==============================] - 2s 954us/step - loss: 0.1994 - accuracy: 0.9250\n",
      "Epoch 18/20\n",
      "1875/1875 [==============================] - 2s 965us/step - loss: 0.1980 - accuracy: 0.9264\n",
      "Epoch 19/20\n",
      "1875/1875 [==============================] - 2s 957us/step - loss: 0.1952 - accuracy: 0.9275\n",
      "Epoch 20/20\n",
      "1875/1875 [==============================] - 2s 951us/step - loss: 0.1954 - accuracy: 0.9276\n"
     ]
    }
   ],
   "source": [
    "history = model.fit(x=train_images, y=train_oh_labels, batch_size=32, epochs=20, verbose=1)"
   ]
  },
  {
   "cell_type": "code",
   "execution_count": 25,
   "metadata": {},
   "outputs": [
    {
     "data": {
      "text/plain": [
       "[0.5076472163200378,\n",
       " 0.3784371614456177,\n",
       " 0.34206661581993103,\n",
       " 0.3189852833747864,\n",
       " 0.30196255445480347,\n",
       " 0.28524452447891235,\n",
       " 0.27678391337394714,\n",
       " 0.2641028165817261,\n",
       " 0.2568590044975281,\n",
       " 0.24795803427696228,\n",
       " 0.24105407297611237,\n",
       " 0.23448911309242249,\n",
       " 0.2283284068107605,\n",
       " 0.22240521013736725,\n",
       " 0.21825683116912842,\n",
       " 0.2112966924905777,\n",
       " 0.20469313859939575,\n",
       " 0.19985195994377136,\n",
       " 0.19571609795093536,\n",
       " 0.19314183294773102]"
      ]
     },
     "execution_count": 25,
     "metadata": {},
     "output_type": "execute_result"
    }
   ],
   "source": [
    "history.history['loss']"
   ]
  },
  {
   "cell_type": "code",
   "execution_count": 26,
   "metadata": {},
   "outputs": [
    {
     "data": {
      "text/plain": [
       "[0.8200666904449463,\n",
       " 0.8620499968528748,\n",
       " 0.875166654586792,\n",
       " 0.8824333548545837,\n",
       " 0.8873166441917419,\n",
       " 0.8951333165168762,\n",
       " 0.8966000080108643,\n",
       " 0.901116669178009,\n",
       " 0.9035500288009644,\n",
       " 0.9072999954223633,\n",
       " 0.9101333618164062,\n",
       " 0.9119499921798706,\n",
       " 0.9142500162124634,\n",
       " 0.9173166751861572,\n",
       " 0.9176666736602783,\n",
       " 0.9210333228111267,\n",
       " 0.9228166937828064,\n",
       " 0.9255333542823792,\n",
       " 0.9266166687011719,\n",
       " 0.9266999959945679]"
      ]
     },
     "execution_count": 26,
     "metadata": {},
     "output_type": "execute_result"
    }
   ],
   "source": [
    "history.history['accuracy']"
   ]
  },
  {
   "cell_type": "code",
   "execution_count": 27,
   "metadata": {},
   "outputs": [
    {
     "data": {
      "text/plain": [
       "(10000, 28, 28)"
      ]
     },
     "execution_count": 27,
     "metadata": {},
     "output_type": "execute_result"
    }
   ],
   "source": [
    "test_images.shape"
   ]
  },
  {
   "cell_type": "code",
   "execution_count": 28,
   "metadata": {},
   "outputs": [
    {
     "data": {
      "text/plain": [
       "(10000, 10)"
      ]
     },
     "execution_count": 28,
     "metadata": {},
     "output_type": "execute_result"
    }
   ],
   "source": [
    "pred_proba = model.predict(test_images)\n",
    "\n",
    "pred_proba.shape"
   ]
  },
  {
   "cell_type": "code",
   "execution_count": 29,
   "metadata": {},
   "outputs": [
    {
     "data": {
      "text/plain": [
       "array([[8.8278364e-07, 9.8993638e-08, 4.3677983e-06, 2.7956011e-08,\n",
       "        1.0652577e-08, 4.8424777e-06, 8.5060701e-06, 1.1271046e-03,\n",
       "        2.6710609e-10, 9.9885416e-01],\n",
       "       [5.2019604e-06, 2.0592953e-11, 9.9965990e-01, 1.2391473e-15,\n",
       "        2.4794540e-04, 7.3865767e-21, 8.6957123e-05, 1.9906938e-23,\n",
       "        3.3310764e-16, 1.7765298e-20],\n",
       "       [6.6626898e-21, 1.0000000e+00, 8.7490696e-26, 5.0194759e-18,\n",
       "        1.9698224e-24, 2.3228131e-34, 4.9806964e-19, 1.4485263e-33,\n",
       "        5.2256072e-32, 1.4066152e-23],\n",
       "       [2.3155393e-13, 1.0000000e+00, 5.5345130e-20, 6.3687812e-11,\n",
       "        4.2872435e-20, 5.9522298e-26, 7.3810309e-14, 5.4189028e-27,\n",
       "        5.8198586e-23, 9.0134759e-19],\n",
       "       [3.4649846e-01, 6.5580780e-10, 5.1574861e-03, 8.9835713e-04,\n",
       "        2.4179010e-04, 1.6016386e-11, 6.4720190e-01, 5.7524509e-11,\n",
       "        2.0667128e-06, 1.3366108e-09]], dtype=float32)"
      ]
     },
     "execution_count": 29,
     "metadata": {},
     "output_type": "execute_result"
    }
   ],
   "source": [
    "pred_proba[:5]"
   ]
  },
  {
   "cell_type": "code",
   "execution_count": 30,
   "metadata": {},
   "outputs": [
    {
     "data": {
      "text/plain": [
       "(28, 28)"
      ]
     },
     "execution_count": 30,
     "metadata": {},
     "output_type": "execute_result"
    }
   ],
   "source": [
    "test_images[0].shape"
   ]
  },
  {
   "cell_type": "code",
   "execution_count": 34,
   "metadata": {},
   "outputs": [
    {
     "data": {
      "text/plain": [
       "((1, 28, 28), (28, 1, 28), (28, 28, 1))"
      ]
     },
     "execution_count": 34,
     "metadata": {},
     "output_type": "execute_result"
    }
   ],
   "source": [
    "np.expand_dims(test_images[0], axis=0).shape, np.expand_dims(test_images[0], axis=1).shape \\\n",
    ",np.expand_dims(test_images[0], axis=-1).shape "
   ]
  },
  {
   "cell_type": "code",
   "execution_count": 38,
   "metadata": {},
   "outputs": [
    {
     "data": {
      "text/plain": [
       "array([[8.8278449e-07, 9.8993638e-08, 4.3678065e-06, 2.7956011e-08,\n",
       "        1.0652577e-08, 4.8424822e-06, 8.5060865e-06, 1.1271040e-03,\n",
       "        2.6710609e-10, 9.9885416e-01]], dtype=float32)"
      ]
     },
     "execution_count": 38,
     "metadata": {},
     "output_type": "execute_result"
    }
   ],
   "source": [
    "pred_proba = model.predict(np.expand_dims(test_images[0], axis=0))\n",
    "\n",
    "pred_proba"
   ]
  },
  {
   "cell_type": "code",
   "execution_count": 41,
   "metadata": {},
   "outputs": [
    {
     "data": {
      "text/plain": [
       "9"
      ]
     },
     "execution_count": 41,
     "metadata": {},
     "output_type": "execute_result"
    }
   ],
   "source": [
    "pred = np.argmax(np.squeeze(pred_proba))\n",
    "\n",
    "pred"
   ]
  },
  {
   "cell_type": "code",
   "execution_count": 44,
   "metadata": {},
   "outputs": [
    {
     "data": {
      "text/plain": [
       "True"
      ]
     },
     "execution_count": 44,
     "metadata": {},
     "output_type": "execute_result"
    }
   ],
   "source": [
    "test_labels[0] == pred"
   ]
  },
  {
   "cell_type": "code",
   "execution_count": 47,
   "metadata": {},
   "outputs": [
    {
     "name": "stdout",
     "output_type": "stream",
     "text": [
      "157/157 [==============================] - 0s 2ms/step - loss: 0.3522 - accuracy: 0.8889\n"
     ]
    },
    {
     "data": {
      "text/plain": [
       "[0.35221707820892334, 0.8888999819755554]"
      ]
     },
     "execution_count": 47,
     "metadata": {},
     "output_type": "execute_result"
    }
   ],
   "source": [
    "model.evaluate(test_images, test_oh_labels, batch_size=64)"
   ]
  },
  {
   "cell_type": "code",
   "execution_count": 48,
   "metadata": {},
   "outputs": [],
   "source": [
    "(train_images, train_labels), (test_images, test_labels) = fashion_mnist.load_data()\n",
    "\n",
    "train_images, train_labels = preprocess_data(train_images, train_labels)\n",
    "test_images, test_labels = preprocess_data(test_images, test_labels)"
   ]
  },
  {
   "cell_type": "code",
   "execution_count": 51,
   "metadata": {},
   "outputs": [
    {
     "data": {
      "text/plain": [
       "((51000, 28, 28), (51000,), (9000, 28, 28), (9000,))"
      ]
     },
     "execution_count": 51,
     "metadata": {},
     "output_type": "execute_result"
    }
   ],
   "source": [
    "from sklearn.model_selection import train_test_split\n",
    "from tensorflow.keras.utils import to_categorical\n",
    "\n",
    "tr_images, val_images, tr_labels, val_labels = train_test_split(train_images, train_labels, \\\n",
    "  test_size=0.15, random_state=2022)\n",
    "\n",
    "tr_images.shape, tr_labels.shape, val_images.shape, val_labels.shape"
   ]
  },
  {
   "cell_type": "code",
   "execution_count": 52,
   "metadata": {},
   "outputs": [
    {
     "data": {
      "text/plain": [
       "((51000, 10), (9000, 10))"
      ]
     },
     "execution_count": 52,
     "metadata": {},
     "output_type": "execute_result"
    }
   ],
   "source": [
    "tr_oh_labels = to_categorical(tr_labels)\n",
    "val_oh_labels = to_categorical(val_labels)\n",
    "\n",
    "tr_oh_labels.shape, val_oh_labels.shape"
   ]
  },
  {
   "cell_type": "code",
   "execution_count": 53,
   "metadata": {},
   "outputs": [
    {
     "name": "stdout",
     "output_type": "stream",
     "text": [
      "Epoch 1/20\n",
      "1594/1594 [==============================] - 3s 1ms/step - loss: 0.6923 - accuracy: 0.7656 - val_loss: 0.4550 - val_accuracy: 0.8364\n",
      "Epoch 2/20\n",
      "1594/1594 [==============================] - 2s 1ms/step - loss: 0.4068 - accuracy: 0.8544 - val_loss: 0.3946 - val_accuracy: 0.8543\n",
      "Epoch 3/20\n",
      "1594/1594 [==============================] - 2s 1ms/step - loss: 0.3627 - accuracy: 0.8666 - val_loss: 0.4076 - val_accuracy: 0.8493\n",
      "Epoch 4/20\n",
      "1594/1594 [==============================] - 2s 2ms/step - loss: 0.3280 - accuracy: 0.8779 - val_loss: 0.3535 - val_accuracy: 0.8729\n",
      "Epoch 5/20\n",
      "1594/1594 [==============================] - 2s 1ms/step - loss: 0.3066 - accuracy: 0.8866 - val_loss: 0.3278 - val_accuracy: 0.8802\n",
      "Epoch 6/20\n",
      "1594/1594 [==============================] - 3s 2ms/step - loss: 0.2984 - accuracy: 0.8873 - val_loss: 0.3123 - val_accuracy: 0.8898\n",
      "Epoch 7/20\n",
      "1594/1594 [==============================] - 2s 1ms/step - loss: 0.2782 - accuracy: 0.8963 - val_loss: 0.3290 - val_accuracy: 0.8823\n",
      "Epoch 8/20\n",
      "1594/1594 [==============================] - 2s 1ms/step - loss: 0.2740 - accuracy: 0.8970 - val_loss: 0.3138 - val_accuracy: 0.8898\n",
      "Epoch 9/20\n",
      "1594/1594 [==============================] - 4s 2ms/step - loss: 0.2572 - accuracy: 0.9046 - val_loss: 0.3265 - val_accuracy: 0.8821\n",
      "Epoch 10/20\n",
      "1594/1594 [==============================] - 2s 1ms/step - loss: 0.2476 - accuracy: 0.9074 - val_loss: 0.3499 - val_accuracy: 0.8780\n",
      "Epoch 11/20\n",
      "1594/1594 [==============================] - 2s 1ms/step - loss: 0.2398 - accuracy: 0.9088 - val_loss: 0.3246 - val_accuracy: 0.8858\n",
      "Epoch 12/20\n",
      "1594/1594 [==============================] - 2s 1ms/step - loss: 0.2337 - accuracy: 0.9127 - val_loss: 0.3492 - val_accuracy: 0.8757\n",
      "Epoch 13/20\n",
      "1594/1594 [==============================] - 2s 1ms/step - loss: 0.2320 - accuracy: 0.9121 - val_loss: 0.3174 - val_accuracy: 0.8896\n",
      "Epoch 14/20\n",
      "1594/1594 [==============================] - 2s 1ms/step - loss: 0.2227 - accuracy: 0.9164 - val_loss: 0.3164 - val_accuracy: 0.8928\n",
      "Epoch 15/20\n",
      "1594/1594 [==============================] - 2s 1ms/step - loss: 0.2152 - accuracy: 0.9193 - val_loss: 0.3168 - val_accuracy: 0.8931\n",
      "Epoch 16/20\n",
      "1594/1594 [==============================] - 2s 1ms/step - loss: 0.2056 - accuracy: 0.9220 - val_loss: 0.3389 - val_accuracy: 0.8903\n",
      "Epoch 17/20\n",
      "1594/1594 [==============================] - 2s 1ms/step - loss: 0.2068 - accuracy: 0.9224 - val_loss: 0.3219 - val_accuracy: 0.8963\n",
      "Epoch 18/20\n",
      "1594/1594 [==============================] - 2s 1ms/step - loss: 0.1964 - accuracy: 0.9257 - val_loss: 0.3197 - val_accuracy: 0.8972\n",
      "Epoch 19/20\n",
      "1594/1594 [==============================] - 2s 1ms/step - loss: 0.1923 - accuracy: 0.9282 - val_loss: 0.3242 - val_accuracy: 0.8963\n",
      "Epoch 20/20\n",
      "1594/1594 [==============================] - 2s 1ms/step - loss: 0.1831 - accuracy: 0.9308 - val_loss: 0.3409 - val_accuracy: 0.8892\n"
     ]
    }
   ],
   "source": [
    "model = Sequential([\n",
    "  Flatten(input_shape=(INPUT_SIZE, INPUT_SIZE)),\n",
    "  Dense(100, activation='relu'),\n",
    "  Dense(30, activation='relu'),\n",
    "  Dense(10, activation='softmax'),\n",
    "])\n",
    "\n",
    "model.compile(optimizer=Adam(0.001), loss='categorical_crossentropy', metrics=['accuracy'])\n",
    "history = model.fit(x=tr_images, y=tr_oh_labels, batch_size=32, \\\n",
    "                    validation_data=(val_images, val_oh_labels), epochs=20, verbose=1)"
   ]
  },
  {
   "cell_type": "code",
   "execution_count": 55,
   "metadata": {},
   "outputs": [
    {
     "data": {
      "text/plain": [
       "[0.5277537703514099,\n",
       " 0.39443570375442505,\n",
       " 0.3548792600631714,\n",
       " 0.32855042815208435,\n",
       " 0.31119289994239807,\n",
       " 0.29588446021080017,\n",
       " 0.2833231985569,\n",
       " 0.2724568843841553,\n",
       " 0.2612306773662567,\n",
       " 0.2536659240722656,\n",
       " 0.24540720880031586,\n",
       " 0.2380208969116211,\n",
       " 0.2319682091474533,\n",
       " 0.22446927428245544,\n",
       " 0.2181742638349533,\n",
       " 0.21150007843971252,\n",
       " 0.2064882069826126,\n",
       " 0.2012774646282196,\n",
       " 0.1970358043909073,\n",
       " 0.18967987596988678]"
      ]
     },
     "execution_count": 55,
     "metadata": {},
     "output_type": "execute_result"
    }
   ],
   "source": [
    "history.history['loss']"
   ]
  },
  {
   "cell_type": "code",
   "execution_count": 56,
   "metadata": {},
   "outputs": [
    {
     "data": {
      "text/plain": [
       "[0.8169804215431213,\n",
       " 0.8590196371078491,\n",
       " 0.8702548742294312,\n",
       " 0.8797059059143066,\n",
       " 0.8852941393852234,\n",
       " 0.8903921842575073,\n",
       " 0.8951568603515625,\n",
       " 0.8977450728416443,\n",
       " 0.9028431177139282,\n",
       " 0.9045490026473999,\n",
       " 0.90790194272995,\n",
       " 0.91019606590271,\n",
       " 0.9125294089317322,\n",
       " 0.9154706001281738,\n",
       " 0.9177843332290649,\n",
       " 0.9196470379829407,\n",
       " 0.9217255115509033,\n",
       " 0.9243725538253784,\n",
       " 0.9257842898368835,\n",
       " 0.9281960725784302]"
      ]
     },
     "execution_count": 56,
     "metadata": {},
     "output_type": "execute_result"
    }
   ],
   "source": [
    "history.history['accuracy']"
   ]
  },
  {
   "cell_type": "code",
   "execution_count": 57,
   "metadata": {},
   "outputs": [
    {
     "data": {
      "text/plain": [
       "[0.45498764514923096,\n",
       " 0.3946465253829956,\n",
       " 0.407561331987381,\n",
       " 0.3534605801105499,\n",
       " 0.3278220295906067,\n",
       " 0.3123241364955902,\n",
       " 0.32899630069732666,\n",
       " 0.31380876898765564,\n",
       " 0.32651999592781067,\n",
       " 0.34989649057388306,\n",
       " 0.3246440291404724,\n",
       " 0.3492313027381897,\n",
       " 0.3174456059932709,\n",
       " 0.31638455390930176,\n",
       " 0.3167949318885803,\n",
       " 0.3388758599758148,\n",
       " 0.32191234827041626,\n",
       " 0.319663405418396,\n",
       " 0.3241802453994751,\n",
       " 0.3409152328968048]"
      ]
     },
     "execution_count": 57,
     "metadata": {},
     "output_type": "execute_result"
    }
   ],
   "source": [
    "history.history['val_loss']"
   ]
  },
  {
   "cell_type": "code",
   "execution_count": 58,
   "metadata": {},
   "outputs": [
    {
     "data": {
      "text/plain": [
       "[0.8364444375038147,\n",
       " 0.8543333411216736,\n",
       " 0.8493333458900452,\n",
       " 0.8728888630867004,\n",
       " 0.8802222013473511,\n",
       " 0.8897777795791626,\n",
       " 0.8823333382606506,\n",
       " 0.8897777795791626,\n",
       " 0.882111132144928,\n",
       " 0.878000020980835,\n",
       " 0.8857777714729309,\n",
       " 0.8756666779518127,\n",
       " 0.8895555734634399,\n",
       " 0.8927778005599976,\n",
       " 0.8931111097335815,\n",
       " 0.890333354473114,\n",
       " 0.8963333368301392,\n",
       " 0.8972222208976746,\n",
       " 0.8963333368301392,\n",
       " 0.8892222046852112]"
      ]
     },
     "execution_count": 58,
     "metadata": {},
     "output_type": "execute_result"
    }
   ],
   "source": [
    "history.history['val_accuracy']"
   ]
  },
  {
   "cell_type": "code",
   "execution_count": 59,
   "metadata": {},
   "outputs": [
    {
     "data": {
      "text/plain": [
       "<matplotlib.legend.Legend at 0x7fd231303070>"
      ]
     },
     "execution_count": 59,
     "metadata": {},
     "output_type": "execute_result"
    },
    {
     "data": {
      "image/png": "[encoded data removed]",
      "text/plain": [
       "<Figure size 432x288 with 1 Axes>"
      ]
     },
     "metadata": {
      "needs_background": "light"
     },
     "output_type": "display_data"
    }
   ],
   "source": [
    "plt.plot(history.history['accuracy'], label='train')\n",
    "plt.plot(history.history['val_accuracy'], label='valid')\n",
    "plt.legend()"
   ]
  },
  {
   "cell_type": "code",
   "execution_count": 60,
   "metadata": {},
   "outputs": [
    {
     "name": "stdout",
     "output_type": "stream",
     "text": [
      "Model: \"model\"\n",
      "_________________________________________________________________\n",
      "Layer (type)                 Output Shape              Param #   \n",
      "=================================================================\n",
      "input_1 (InputLayer)         [(None, 28, 28)]          0         \n",
      "_________________________________________________________________\n",
      "flatten_2 (Flatten)          (None, 784)               0         \n",
      "_________________________________________________________________\n",
      "dense_6 (Dense)              (None, 100)               78500     \n",
      "_________________________________________________________________\n",
      "dense_7 (Dense)              (None, 30)                3030      \n",
      "_________________________________________________________________\n",
      "dense_8 (Dense)              (None, 10)                310       \n",
      "=================================================================\n",
      "Total params: 81,840\n",
      "Trainable params: 81,840\n",
      "Non-trainable params: 0\n",
      "_________________________________________________________________\n"
     ]
    }
   ],
   "source": [
    "from tensorflow.keras.layers import Input, Flatten, Dense\n",
    "from tensorflow.keras.models import Model\n",
    "\n",
    "input_tensor = Input(shape=(INPUT_SIZE, INPUT_SIZE))\n",
    "x = Flatten()(input_tensor)\n",
    "x = Dense(100, activation='relu')(x)\n",
    "x = Dense(30, activation='relu')(x)\n",
    "output = Dense(10, activation='softmax')(x)\n",
    "\n",
    "model = Model(inputs=input_tensor, outputs=output)\n",
    "\n",
    "model.summary()"
   ]
  },
  {
   "cell_type": "code",
   "execution_count": 61,
   "metadata": {},
   "outputs": [
    {
     "name": "stdout",
     "output_type": "stream",
     "text": [
      "Model: \"model_1\"\n",
      "_________________________________________________________________\n",
      "Layer (type)                 Output Shape              Param #   \n",
      "=================================================================\n",
      "input_2 (InputLayer)         [(None, 4)]               0         \n",
      "_________________________________________________________________\n",
      "custom_dense (CustomDense)   (None, 10)                50        \n",
      "=================================================================\n",
      "Total params: 50\n",
      "Trainable params: 50\n",
      "Non-trainable params: 0\n",
      "_________________________________________________________________\n"
     ]
    }
   ],
   "source": [
    "import tensorflow as tf\n",
    "\n",
    "class CustomDense(tf.keras.layers.Layer):\n",
    "  def __init__(self, units=32):\n",
    "    super(CustomDense, self).__init__()\n",
    "    self.units = units\n",
    "\n",
    "  def build(self, input_shape):\n",
    "    self.w = self.add_weight(\n",
    "      shape=(input_shape[-1], self.units),\n",
    "      initializer='random_normal',\n",
    "      trainable=True\n",
    "    )\n",
    "    self.b = self.add_weight(\n",
    "      shape=(self.units,), initializer='random_normal',\n",
    "      trainable=True\n",
    "    )\n",
    "\n",
    "  def call(self, inputs):\n",
    "    return tf.matmul(inputs, self.w) + self.b\n",
    "\n",
    "inputs = Input((4,))\n",
    "ouputs = CustomDense(10)(inputs)\n",
    "\n",
    "model = Model(inputs, ouputs)\n",
    "\n",
    "model.summary()\n"
   ]
  },
  {
   "cell_type": "code",
   "execution_count": 63,
   "metadata": {},
   "outputs": [],
   "source": [
    "INPUT_SIZE = 28\n",
    "\n",
    "def create_model():\n",
    "  input_tensor = Input(shape=(INPUT_SIZE, INPUT_SIZE))\n",
    "  x = Flatten()(input_tensor)\n",
    "  x = Dense(units=100, activation='relu')(x)\n",
    "  x = Dense(units=30, activation='relu')(x)\n",
    "  output = Dense(units=10, activation='softmax')(x)\n",
    "  model = Model(inputs=input_tensor, outputs=output)\n",
    "\n",
    "  return model"
   ]
  },
  {
   "cell_type": "code",
   "execution_count": 64,
   "metadata": {},
   "outputs": [
    {
     "name": "stdout",
     "output_type": "stream",
     "text": [
      "Model: \"model_2\"\n",
      "_________________________________________________________________\n",
      "Layer (type)                 Output Shape              Param #   \n",
      "=================================================================\n",
      "input_3 (InputLayer)         [(None, 28, 28)]          0         \n",
      "_________________________________________________________________\n",
      "flatten_3 (Flatten)          (None, 784)               0         \n",
      "_________________________________________________________________\n",
      "dense_9 (Dense)              (None, 100)               78500     \n",
      "_________________________________________________________________\n",
      "dense_10 (Dense)             (None, 30)                3030      \n",
      "_________________________________________________________________\n",
      "dense_11 (Dense)             (None, 10)                310       \n",
      "=================================================================\n",
      "Total params: 81,840\n",
      "Trainable params: 81,840\n",
      "Non-trainable params: 0\n",
      "_________________________________________________________________\n"
     ]
    }
   ],
   "source": [
    "model = create_model()\n",
    "\n",
    "model.summary()"
   ]
  },
  {
   "cell_type": "code",
   "execution_count": 71,
   "metadata": {},
   "outputs": [],
   "source": [
    "def get_preprocessed_data(images, labels):\n",
    "  images = np.array(images / 255.0, dtype=np.float32)\n",
    "  labels = np.array(labels, dtype=np.float32)\n",
    "\n",
    "  return images, labels\n",
    "\n",
    "def get_preprocessed_ohe(images, labels):\n",
    "  images, labels = get_preprocessed_data(images, labels)\n",
    "  oh_labels = to_categorical(labels)\n",
    "\n",
    "  return images, oh_labels\n",
    "\n",
    "def get_train_valid_test_set(train_images, train_labels, test_images, test_labels, \\\n",
    "                              valid_size=0.15, random_state=2022):\n",
    "    train_images, train_oh_labels = get_preprocessed_ohe(train_images, train_labels)\n",
    "    test_images, test_oh_labels = get_preprocessed_ohe(test_images, test_labels)\n",
    "    tr_images, val_images, tr_oh_labels,val_oh_labels = \\\n",
    "      train_test_split(train_images, train_oh_labels, test_size=valid_size, random_state=random_state)\n",
    "    \n",
    "    return (tr_images, tr_oh_labels), (val_images, val_oh_labels), (test_images, test_oh_labels)"
   ]
  },
  {
   "cell_type": "code",
   "execution_count": 68,
   "metadata": {},
   "outputs": [
    {
     "data": {
      "text/plain": [
       "((60000, 28, 28), (60000,), (10000, 28, 28), (10000,))"
      ]
     },
     "execution_count": 68,
     "metadata": {},
     "output_type": "execute_result"
    }
   ],
   "source": [
    "(train_images, train_labels), (test_images, test_labels) = fashion_mnist.load_data()\n",
    "\n",
    "train_images.shape, train_labels.shape, test_images.shape, test_labels.shape"
   ]
  },
  {
   "cell_type": "code",
   "execution_count": 72,
   "metadata": {},
   "outputs": [
    {
     "data": {
      "text/plain": [
       "((51000, 28, 28),\n",
       " (51000, 10),\n",
       " (9000, 28, 28),\n",
       " (9000, 10),\n",
       " (10000, 28, 28),\n",
       " (10000, 10))"
      ]
     },
     "execution_count": 72,
     "metadata": {},
     "output_type": "execute_result"
    }
   ],
   "source": [
    "(tr_images, tr_oh_labels), (val_images, val_oh_labels), (test_images, test_oh_labels) = \\\n",
    "  get_train_valid_test_set(train_images, train_labels, test_images, test_labels)\n",
    "\n",
    "tr_images.shape, tr_oh_labels.shape, val_images.shape, \\\n",
    "  val_oh_labels.shape, test_images.shape, test_oh_labels.shape"
   ]
  },
  {
   "cell_type": "code",
   "execution_count": 73,
   "metadata": {},
   "outputs": [
    {
     "name": "stdout",
     "output_type": "stream",
     "text": [
      "Model: \"model_3\"\n",
      "_________________________________________________________________\n",
      "Layer (type)                 Output Shape              Param #   \n",
      "=================================================================\n",
      "input_4 (InputLayer)         [(None, 28, 28)]          0         \n",
      "_________________________________________________________________\n",
      "flatten_4 (Flatten)          (None, 784)               0         \n",
      "_________________________________________________________________\n",
      "dense_12 (Dense)             (None, 100)               78500     \n",
      "_________________________________________________________________\n",
      "dense_13 (Dense)             (None, 30)                3030      \n",
      "_________________________________________________________________\n",
      "dense_14 (Dense)             (None, 10)                310       \n",
      "=================================================================\n",
      "Total params: 81,840\n",
      "Trainable params: 81,840\n",
      "Non-trainable params: 0\n",
      "_________________________________________________________________\n"
     ]
    }
   ],
   "source": [
    "model = create_model()\n",
    "\n",
    "model.summary()"
   ]
  },
  {
   "cell_type": "code",
   "execution_count": 74,
   "metadata": {},
   "outputs": [],
   "source": [
    "model.compile(optimizer=Adam(0.001), loss='categorical_crossentropy', metrics=['accuracy'])"
   ]
  },
  {
   "cell_type": "code",
   "execution_count": 76,
   "metadata": {},
   "outputs": [
    {
     "name": "stdout",
     "output_type": "stream",
     "text": [
      "Epoch 1/20\n",
      "1594/1594 [==============================] - 2s 1ms/step - loss: 0.2832 - accuracy: 0.8943 - val_loss: 0.3156 - val_accuracy: 0.8872\n",
      "Epoch 2/20\n",
      "1594/1594 [==============================] - 2s 1ms/step - loss: 0.2724 - accuracy: 0.8986 - val_loss: 0.3403 - val_accuracy: 0.8758\n",
      "Epoch 3/20\n",
      "1594/1594 [==============================] - 2s 1ms/step - loss: 0.2612 - accuracy: 0.9021 - val_loss: 0.3166 - val_accuracy: 0.8870\n",
      "Epoch 4/20\n",
      "1594/1594 [==============================] - 2s 1ms/step - loss: 0.2518 - accuracy: 0.9066 - val_loss: 0.3177 - val_accuracy: 0.8878\n",
      "Epoch 5/20\n",
      "1594/1594 [==============================] - 2s 1ms/step - loss: 0.2448 - accuracy: 0.9073 - val_loss: 0.3191 - val_accuracy: 0.8897\n",
      "Epoch 6/20\n",
      "1594/1594 [==============================] - 2s 1ms/step - loss: 0.2372 - accuracy: 0.9113 - val_loss: 0.3334 - val_accuracy: 0.8837\n",
      "Epoch 7/20\n",
      "1594/1594 [==============================] - 2s 1ms/step - loss: 0.2316 - accuracy: 0.9124 - val_loss: 0.3301 - val_accuracy: 0.8884\n",
      "Epoch 8/20\n",
      "1594/1594 [==============================] - 2s 1ms/step - loss: 0.2232 - accuracy: 0.9178 - val_loss: 0.3338 - val_accuracy: 0.8867\n",
      "Epoch 9/20\n",
      "1594/1594 [==============================] - 2s 1ms/step - loss: 0.2176 - accuracy: 0.9185 - val_loss: 0.3369 - val_accuracy: 0.8853\n",
      "Epoch 10/20\n",
      "1594/1594 [==============================] - 2s 1ms/step - loss: 0.2102 - accuracy: 0.9208 - val_loss: 0.3460 - val_accuracy: 0.8840\n",
      "Epoch 11/20\n",
      "1594/1594 [==============================] - 2s 1ms/step - loss: 0.2047 - accuracy: 0.9223 - val_loss: 0.3228 - val_accuracy: 0.8907\n",
      "Epoch 12/20\n",
      "1594/1594 [==============================] - 2s 1ms/step - loss: 0.1982 - accuracy: 0.9236 - val_loss: 0.3341 - val_accuracy: 0.8841\n",
      "Epoch 13/20\n",
      "1594/1594 [==============================] - 2s 1ms/step - loss: 0.1952 - accuracy: 0.9248 - val_loss: 0.3221 - val_accuracy: 0.8926\n",
      "Epoch 14/20\n",
      "1594/1594 [==============================] - 2s 1ms/step - loss: 0.1899 - accuracy: 0.9271 - val_loss: 0.3447 - val_accuracy: 0.8881\n",
      "Epoch 15/20\n",
      "1594/1594 [==============================] - 2s 1ms/step - loss: 0.1854 - accuracy: 0.9308 - val_loss: 0.3493 - val_accuracy: 0.8872\n",
      "Epoch 16/20\n",
      "1594/1594 [==============================] - 2s 1ms/step - loss: 0.1805 - accuracy: 0.9315 - val_loss: 0.3598 - val_accuracy: 0.8877\n",
      "Epoch 17/20\n",
      "1594/1594 [==============================] - 2s 1ms/step - loss: 0.1747 - accuracy: 0.9333 - val_loss: 0.3523 - val_accuracy: 0.8923\n",
      "Epoch 18/20\n",
      "1594/1594 [==============================] - 2s 1ms/step - loss: 0.1736 - accuracy: 0.9340 - val_loss: 0.3501 - val_accuracy: 0.8914\n",
      "Epoch 19/20\n",
      "1594/1594 [==============================] - 2s 1ms/step - loss: 0.1695 - accuracy: 0.9357 - val_loss: 0.3477 - val_accuracy: 0.8937\n",
      "Epoch 20/20\n",
      "1594/1594 [==============================] - 2s 1ms/step - loss: 0.1672 - accuracy: 0.9358 - val_loss: 0.3824 - val_accuracy: 0.8892\n"
     ]
    }
   ],
   "source": [
    "history = model.fit(x=tr_images, y=tr_oh_labels, batch_size=32, epochs=20, \\\n",
    "  validation_data=(val_images, val_oh_labels))"
   ]
  },
  {
   "cell_type": "code",
   "execution_count": 78,
   "metadata": {},
   "outputs": [
    {
     "data": {
      "image/png": "[encoded data removed]",
      "text/plain": [
       "<Figure size 432x288 with 1 Axes>"
      ]
     },
     "metadata": {
      "needs_background": "light"
     },
     "output_type": "display_data"
    }
   ],
   "source": [
    "def show_history(history):\n",
    "  plt.plot(history.history['accuracy'], label='train')\n",
    "  plt.plot(history.history['val_accuracy'], label='valid')\n",
    "  plt.legend()\n",
    "\n",
    "show_history(history)"
   ]
  },
  {
   "cell_type": "code",
   "execution_count": 80,
   "metadata": {},
   "outputs": [
    {
     "name": "stdout",
     "output_type": "stream",
     "text": [
      "40/40 [==============================] - 0s 1ms/step - loss: 0.4136 - accuracy: 0.8821\n"
     ]
    },
    {
     "data": {
      "text/plain": [
       "[0.413634717464447, 0.882099986076355]"
      ]
     },
     "execution_count": 80,
     "metadata": {},
     "output_type": "execute_result"
    }
   ],
   "source": [
    "model.evaluate(test_images, test_oh_labels, batch_size=256, verbose=1)"
   ]
  },
  {
   "cell_type": "code",
   "execution_count": 81,
   "metadata": {},
   "outputs": [
    {
     "name": "stdout",
     "output_type": "stream",
     "text": [
      "/Users/f2hard3/Workspace/deep-learning-cnn/develop\n"
     ]
    }
   ],
   "source": [
    "!pwd"
   ]
  },
  {
   "cell_type": "code",
   "execution_count": 87,
   "metadata": {},
   "outputs": [
    {
     "name": "stdout",
     "output_type": "stream",
     "text": [
      "WARNING:tensorflow:`period` argument is deprecated. Please use `save_freq` to specify the frequency in number of batches seen.\n",
      "Epoch 1/10\n",
      "399/399 [==============================] - 1s 2ms/step - loss: 0.8812 - accuracy: 0.6994 - val_loss: 0.4535 - val_accuracy: 0.8409\n",
      "\n",
      "Epoch 00001: val_loss improved from inf to 0.45347, saving model to /Users/f2hard3/Workspace/deep-learning-cnn/develop/weights.01-0.45.hdf5\n",
      "Epoch 2/10\n",
      "399/399 [==============================] - 1s 2ms/step - loss: 0.4305 - accuracy: 0.8494 - val_loss: 0.3911 - val_accuracy: 0.8634\n",
      "\n",
      "Epoch 00002: val_loss improved from 0.45347 to 0.39113, saving model to /Users/f2hard3/Workspace/deep-learning-cnn/develop/weights.02-0.39.hdf5\n",
      "Epoch 3/10\n",
      "399/399 [==============================] - 1s 2ms/step - loss: 0.3761 - accuracy: 0.8656 - val_loss: 0.3871 - val_accuracy: 0.8593\n",
      "\n",
      "Epoch 00003: val_loss improved from 0.39113 to 0.38710, saving model to /Users/f2hard3/Workspace/deep-learning-cnn/develop/weights.03-0.39.hdf5\n",
      "Epoch 4/10\n",
      "399/399 [==============================] - 1s 2ms/step - loss: 0.3537 - accuracy: 0.8719 - val_loss: 0.3820 - val_accuracy: 0.8618\n",
      "\n",
      "Epoch 00004: val_loss improved from 0.38710 to 0.38199, saving model to /Users/f2hard3/Workspace/deep-learning-cnn/develop/weights.04-0.38.hdf5\n",
      "Epoch 5/10\n",
      "399/399 [==============================] - 1s 2ms/step - loss: 0.3326 - accuracy: 0.8812 - val_loss: 0.3586 - val_accuracy: 0.8713\n",
      "\n",
      "Epoch 00005: val_loss improved from 0.38199 to 0.35861, saving model to /Users/f2hard3/Workspace/deep-learning-cnn/develop/weights.05-0.36.hdf5\n",
      "Epoch 6/10\n",
      "399/399 [==============================] - 1s 2ms/step - loss: 0.3225 - accuracy: 0.8825 - val_loss: 0.3570 - val_accuracy: 0.8706\n",
      "\n",
      "Epoch 00006: val_loss improved from 0.35861 to 0.35702, saving model to /Users/f2hard3/Workspace/deep-learning-cnn/develop/weights.06-0.36.hdf5\n",
      "Epoch 7/10\n",
      "399/399 [==============================] - 1s 1ms/step - loss: 0.3045 - accuracy: 0.8886 - val_loss: 0.3354 - val_accuracy: 0.8807\n",
      "\n",
      "Epoch 00007: val_loss improved from 0.35702 to 0.33544, saving model to /Users/f2hard3/Workspace/deep-learning-cnn/develop/weights.07-0.34.hdf5\n",
      "Epoch 8/10\n",
      "399/399 [==============================] - 1s 1ms/step - loss: 0.2991 - accuracy: 0.8903 - val_loss: 0.3352 - val_accuracy: 0.8773\n",
      "\n",
      "Epoch 00008: val_loss improved from 0.33544 to 0.33520, saving model to /Users/f2hard3/Workspace/deep-learning-cnn/develop/weights.08-0.34.hdf5\n",
      "Epoch 9/10\n",
      "399/399 [==============================] - 1s 2ms/step - loss: 0.2782 - accuracy: 0.8955 - val_loss: 0.3295 - val_accuracy: 0.8824\n",
      "\n",
      "Epoch 00009: val_loss improved from 0.33520 to 0.32950, saving model to /Users/f2hard3/Workspace/deep-learning-cnn/develop/weights.09-0.33.hdf5\n",
      "Epoch 10/10\n",
      "399/399 [==============================] - 1s 2ms/step - loss: 0.2698 - accuracy: 0.9005 - val_loss: 0.3260 - val_accuracy: 0.8854\n",
      "\n",
      "Epoch 00010: val_loss improved from 0.32950 to 0.32596, saving model to /Users/f2hard3/Workspace/deep-learning-cnn/develop/weights.10-0.33.hdf5\n"
     ]
    }
   ],
   "source": [
    "from tensorflow.keras.callbacks import ModelCheckpoint\n",
    "\n",
    "model = create_model()\n",
    "model.compile(optimizer=Adam(0.001), loss='categorical_crossentropy', metrics=['accuracy'])\n",
    "\n",
    "mcp_cb = ModelCheckpoint(filepath='/Users/f2hard3/Workspace/deep-learning-cnn/develop/weights.{epoch:02d}-{val_loss:.2f}.hdf5', monitor='val_loss', \n",
    "                        save_best_only=True, save_weights_only=True, mode='min', period=1, verbose=1)\n",
    "history = model.fit(x=tr_images, y=tr_oh_labels, batch_size=128, epochs=10, validation_data=(val_images, val_oh_labels), callbacks=[mcp_cb])"
   ]
  },
  {
   "cell_type": "code",
   "execution_count": 89,
   "metadata": {},
   "outputs": [
    {
     "name": "stdout",
     "output_type": "stream",
     "text": [
      "total 11648\n",
      "drwxr-xr-x  14 f2hard3  staff      448 Sep 14 17:30 \u001b[34m.\u001b[m\u001b[m\n",
      "drwx------@  6 f2hard3  staff      192 Sep  8 10:48 \u001b[34m..\u001b[m\u001b[m\n",
      "-rw-r--r--   1 f2hard3  staff   161562 Sep 14 17:30 fashion_minist.ipynb\n",
      "-rw-r--r--   1 f2hard3  staff  2357050 Sep 14 09:34 gradient_descent.ipynb\n",
      "-rw-r--r--   1 f2hard3  staff   343232 Sep 14 17:29 weights.01-0.45.hdf5\n",
      "-rw-r--r--   1 f2hard3  staff   343232 Sep 14 17:29 weights.02-0.39.hdf5\n",
      "-rw-r--r--   1 f2hard3  staff   343232 Sep 14 17:29 weights.03-0.39.hdf5\n",
      "-rw-r--r--   1 f2hard3  staff   343232 Sep 14 17:29 weights.04-0.38.hdf5\n",
      "-rw-r--r--   1 f2hard3  staff   343232 Sep 14 17:29 weights.05-0.36.hdf5\n",
      "-rw-r--r--   1 f2hard3  staff   343232 Sep 14 17:29 weights.06-0.36.hdf5\n",
      "-rw-r--r--   1 f2hard3  staff   343232 Sep 14 17:29 weights.07-0.34.hdf5\n",
      "-rw-r--r--   1 f2hard3  staff   343232 Sep 14 17:29 weights.08-0.34.hdf5\n",
      "-rw-r--r--   1 f2hard3  staff   343232 Sep 14 17:30 weights.09-0.33.hdf5\n",
      "-rw-r--r--   1 f2hard3  staff   343232 Sep 14 17:30 weights.10-0.33.hdf5\n"
     ]
    }
   ],
   "source": [
    "!ls -la"
   ]
  },
  {
   "cell_type": "code",
   "execution_count": 97,
   "metadata": {},
   "outputs": [
    {
     "name": "stdout",
     "output_type": "stream",
     "text": [
      "Epoch 1/30\n",
      "399/399 [==============================] - 1s 2ms/step - loss: 0.8701 - accuracy: 0.6999 - val_loss: 0.4651 - val_accuracy: 0.8373\n",
      "Epoch 2/30\n",
      "399/399 [==============================] - 1s 2ms/step - loss: 0.4211 - accuracy: 0.8547 - val_loss: 0.4038 - val_accuracy: 0.8548\n",
      "Epoch 3/30\n",
      "399/399 [==============================] - 1s 2ms/step - loss: 0.3814 - accuracy: 0.8634 - val_loss: 0.3757 - val_accuracy: 0.8632\n",
      "Epoch 4/30\n",
      "399/399 [==============================] - 1s 2ms/step - loss: 0.3495 - accuracy: 0.8745 - val_loss: 0.3668 - val_accuracy: 0.8674\n",
      "Epoch 5/30\n",
      "399/399 [==============================] - 1s 1ms/step - loss: 0.3397 - accuracy: 0.8759 - val_loss: 0.3473 - val_accuracy: 0.8726\n",
      "Epoch 6/30\n",
      "399/399 [==============================] - 1s 2ms/step - loss: 0.3139 - accuracy: 0.8855 - val_loss: 0.3601 - val_accuracy: 0.8718\n",
      "Epoch 7/30\n",
      "399/399 [==============================] - 1s 1ms/step - loss: 0.3005 - accuracy: 0.8899 - val_loss: 0.3361 - val_accuracy: 0.8790\n",
      "Epoch 8/30\n",
      "399/399 [==============================] - 1s 1ms/step - loss: 0.2891 - accuracy: 0.8940 - val_loss: 0.3250 - val_accuracy: 0.8847\n",
      "Epoch 9/30\n",
      "399/399 [==============================] - 1s 1ms/step - loss: 0.2794 - accuracy: 0.8984 - val_loss: 0.3233 - val_accuracy: 0.8819\n",
      "Epoch 10/30\n",
      "399/399 [==============================] - 1s 2ms/step - loss: 0.2724 - accuracy: 0.9012 - val_loss: 0.3259 - val_accuracy: 0.8836\n",
      "Epoch 11/30\n",
      "399/399 [==============================] - 1s 1ms/step - loss: 0.2632 - accuracy: 0.9014 - val_loss: 0.3208 - val_accuracy: 0.8856\n",
      "Epoch 12/30\n",
      "399/399 [==============================] - 1s 2ms/step - loss: 0.2522 - accuracy: 0.9051 - val_loss: 0.3222 - val_accuracy: 0.8859\n",
      "Epoch 13/30\n",
      "399/399 [==============================] - 1s 2ms/step - loss: 0.2491 - accuracy: 0.9069 - val_loss: 0.3146 - val_accuracy: 0.8867\n",
      "Epoch 14/30\n",
      "399/399 [==============================] - 1s 2ms/step - loss: 0.2428 - accuracy: 0.9107 - val_loss: 0.3140 - val_accuracy: 0.8898\n",
      "Epoch 15/30\n",
      "399/399 [==============================] - 1s 2ms/step - loss: 0.2362 - accuracy: 0.9128 - val_loss: 0.3208 - val_accuracy: 0.8862\n",
      "Epoch 16/30\n",
      "399/399 [==============================] - 1s 1ms/step - loss: 0.2291 - accuracy: 0.9156 - val_loss: 0.3150 - val_accuracy: 0.8854\n",
      "Epoch 17/30\n",
      "399/399 [==============================] - 1s 2ms/step - loss: 0.2223 - accuracy: 0.9170 - val_loss: 0.3152 - val_accuracy: 0.8892\n",
      "\n",
      "Epoch 00017: ReduceLROnPlateau reducing learning rate to 0.00033000001567415896.\n",
      "Epoch 18/30\n",
      "399/399 [==============================] - 1s 1ms/step - loss: 0.2013 - accuracy: 0.9263 - val_loss: 0.3019 - val_accuracy: 0.8952\n",
      "Epoch 19/30\n",
      "399/399 [==============================] - 1s 2ms/step - loss: 0.1944 - accuracy: 0.9279 - val_loss: 0.3006 - val_accuracy: 0.8973\n",
      "Epoch 20/30\n",
      "399/399 [==============================] - 1s 2ms/step - loss: 0.1902 - accuracy: 0.9302 - val_loss: 0.3098 - val_accuracy: 0.8914\n",
      "Epoch 21/30\n",
      "399/399 [==============================] - 1s 2ms/step - loss: 0.1890 - accuracy: 0.9303 - val_loss: 0.2984 - val_accuracy: 0.8970\n",
      "Epoch 22/30\n",
      "399/399 [==============================] - 1s 2ms/step - loss: 0.1835 - accuracy: 0.9331 - val_loss: 0.3001 - val_accuracy: 0.8960\n",
      "Epoch 23/30\n",
      "399/399 [==============================] - 1s 2ms/step - loss: 0.1831 - accuracy: 0.9323 - val_loss: 0.3105 - val_accuracy: 0.8958\n",
      "Epoch 24/30\n",
      "399/399 [==============================] - 1s 2ms/step - loss: 0.1771 - accuracy: 0.9335 - val_loss: 0.3145 - val_accuracy: 0.8917\n",
      "\n",
      "Epoch 00024: ReduceLROnPlateau reducing learning rate to 0.00010890000325161964.\n",
      "Epoch 25/30\n",
      "399/399 [==============================] - 1s 2ms/step - loss: 0.1699 - accuracy: 0.9376 - val_loss: 0.3018 - val_accuracy: 0.8963\n",
      "Epoch 26/30\n",
      "399/399 [==============================] - 1s 2ms/step - loss: 0.1671 - accuracy: 0.9386 - val_loss: 0.2997 - val_accuracy: 0.8982\n",
      "Epoch 27/30\n",
      "399/399 [==============================] - 1s 2ms/step - loss: 0.1683 - accuracy: 0.9390 - val_loss: 0.3012 - val_accuracy: 0.8991\n",
      "\n",
      "Epoch 00027: ReduceLROnPlateau reducing learning rate to 3.5936999920522795e-05.\n",
      "Epoch 28/30\n",
      "399/399 [==============================] - 1s 2ms/step - loss: 0.1646 - accuracy: 0.9398 - val_loss: 0.3013 - val_accuracy: 0.8991\n",
      "Epoch 29/30\n",
      "399/399 [==============================] - 1s 1ms/step - loss: 0.1644 - accuracy: 0.9404 - val_loss: 0.3017 - val_accuracy: 0.8993\n",
      "Epoch 30/30\n",
      "399/399 [==============================] - 1s 1ms/step - loss: 0.1629 - accuracy: 0.9423 - val_loss: 0.3009 - val_accuracy: 0.8980\n",
      "\n",
      "Epoch 00030: ReduceLROnPlateau reducing learning rate to 1.185920958960196e-05.\n"
     ]
    }
   ],
   "source": [
    "from tensorflow.keras.callbacks import ReduceLROnPlateau\n",
    "\n",
    "model = create_model()\n",
    "model.compile(optimizer=Adam(0.001), loss='categorical_crossentropy', metrics=['accuracy'])\n",
    "\n",
    "rlr_cb = ReduceLROnPlateau(monitor='val_loss', factor=0.33, patience=3, mode='min', verbose=1)\n",
    "history = model.fit(x=tr_images, y=tr_oh_labels, batch_size=128, epochs=30, validation_data=(val_images, val_oh_labels), callbacks=[rlr_cb])"
   ]
  },
  {
   "cell_type": "code",
   "execution_count": 98,
   "metadata": {},
   "outputs": [
    {
     "name": "stdout",
     "output_type": "stream",
     "text": [
      "Epoch 1/30\n",
      "399/399 [==============================] - 2s 3ms/step - loss: 0.8912 - accuracy: 0.6985 - val_loss: 0.4770 - val_accuracy: 0.8279\n",
      "Epoch 2/30\n",
      "399/399 [==============================] - 1s 2ms/step - loss: 0.4266 - accuracy: 0.8517 - val_loss: 0.4026 - val_accuracy: 0.8567\n",
      "Epoch 3/30\n",
      "399/399 [==============================] - 1s 2ms/step - loss: 0.3838 - accuracy: 0.8638 - val_loss: 0.3790 - val_accuracy: 0.8639\n",
      "Epoch 4/30\n",
      "399/399 [==============================] - 1s 2ms/step - loss: 0.3558 - accuracy: 0.8728 - val_loss: 0.3679 - val_accuracy: 0.8660\n",
      "Epoch 5/30\n",
      "399/399 [==============================] - 1s 2ms/step - loss: 0.3323 - accuracy: 0.8797 - val_loss: 0.3457 - val_accuracy: 0.8724\n",
      "Epoch 6/30\n",
      "399/399 [==============================] - 1s 2ms/step - loss: 0.3150 - accuracy: 0.8822 - val_loss: 0.3397 - val_accuracy: 0.8777\n",
      "Epoch 7/30\n",
      "399/399 [==============================] - 1s 2ms/step - loss: 0.3011 - accuracy: 0.8895 - val_loss: 0.3249 - val_accuracy: 0.8852\n",
      "Epoch 8/30\n",
      "399/399 [==============================] - 1s 2ms/step - loss: 0.2869 - accuracy: 0.8946 - val_loss: 0.3121 - val_accuracy: 0.8901\n",
      "Epoch 9/30\n",
      "399/399 [==============================] - 1s 2ms/step - loss: 0.2827 - accuracy: 0.9000 - val_loss: 0.3136 - val_accuracy: 0.8891\n",
      "Epoch 10/30\n",
      "399/399 [==============================] - 1s 2ms/step - loss: 0.2666 - accuracy: 0.9013 - val_loss: 0.3126 - val_accuracy: 0.8879\n",
      "Epoch 11/30\n",
      "399/399 [==============================] - 1s 2ms/step - loss: 0.2614 - accuracy: 0.9037 - val_loss: 0.3072 - val_accuracy: 0.8904\n",
      "Epoch 12/30\n",
      "399/399 [==============================] - 1s 2ms/step - loss: 0.2498 - accuracy: 0.9092 - val_loss: 0.3074 - val_accuracy: 0.8928\n",
      "Epoch 13/30\n",
      "399/399 [==============================] - 1s 2ms/step - loss: 0.2449 - accuracy: 0.9095 - val_loss: 0.3172 - val_accuracy: 0.8884\n",
      "Epoch 14/30\n",
      "399/399 [==============================] - 1s 2ms/step - loss: 0.2372 - accuracy: 0.9116 - val_loss: 0.3052 - val_accuracy: 0.8936\n",
      "Epoch 15/30\n",
      "399/399 [==============================] - 1s 2ms/step - loss: 0.2322 - accuracy: 0.9128 - val_loss: 0.3241 - val_accuracy: 0.8823\n",
      "Epoch 16/30\n",
      "399/399 [==============================] - 1s 2ms/step - loss: 0.2287 - accuracy: 0.9144 - val_loss: 0.3040 - val_accuracy: 0.8938\n",
      "Epoch 17/30\n",
      "399/399 [==============================] - 1s 2ms/step - loss: 0.2234 - accuracy: 0.9155 - val_loss: 0.3306 - val_accuracy: 0.8860\n",
      "Epoch 18/30\n",
      "399/399 [==============================] - 1s 2ms/step - loss: 0.2191 - accuracy: 0.9170 - val_loss: 0.3167 - val_accuracy: 0.8869\n",
      "Epoch 19/30\n",
      "399/399 [==============================] - 1s 2ms/step - loss: 0.2155 - accuracy: 0.9227 - val_loss: 0.3357 - val_accuracy: 0.8853\n",
      "Epoch 00019: early stopping\n"
     ]
    }
   ],
   "source": [
    "from tensorflow.keras.callbacks import EarlyStopping\n",
    "\n",
    "model = create_model()\n",
    "model.compile(optimizer=Adam(0.001), loss='categorical_crossentropy', metrics=['accuracy'])\n",
    "\n",
    "es_cb = EarlyStopping(monitor='val_loss', patience=3, mode='min', verbose=1)\n",
    "history = model.fit(x=tr_images, y=tr_oh_labels, batch_size=128, epochs=30, validation_data=(val_images, val_oh_labels), callbacks=[es_cb])"
   ]
  },
  {
   "cell_type": "code",
   "execution_count": 103,
   "metadata": {},
   "outputs": [
    {
     "name": "stdout",
     "output_type": "stream",
     "text": [
      "WARNING:tensorflow:`period` argument is deprecated. Please use `save_freq` to specify the frequency in number of batches seen.\n",
      "Epoch 1/40\n",
      "399/399 [==============================] - 1s 2ms/step - loss: 0.1128 - accuracy: 0.9611 - val_loss: 0.3303 - val_accuracy: 0.8990\n",
      "\n",
      "Epoch 00001: val_loss improved from inf to 0.33030, saving model to /Users/f2hard3/Workspace/deep-learning-cnn/develop/weights.01-0.33.hdf5\n",
      "Epoch 2/40\n",
      "399/399 [==============================] - 1s 2ms/step - loss: 0.1128 - accuracy: 0.9612 - val_loss: 0.3301 - val_accuracy: 0.8982\n",
      "\n",
      "Epoch 00002: val_loss improved from 0.33030 to 0.33008, saving model to /Users/f2hard3/Workspace/deep-learning-cnn/develop/weights.02-0.33.hdf5\n",
      "Epoch 3/40\n",
      "399/399 [==============================] - 1s 2ms/step - loss: 0.1126 - accuracy: 0.9615 - val_loss: 0.3309 - val_accuracy: 0.8981\n",
      "\n",
      "Epoch 00003: val_loss did not improve from 0.33008\n",
      "Epoch 4/40\n",
      "399/399 [==============================] - 1s 2ms/step - loss: 0.1126 - accuracy: 0.9617 - val_loss: 0.3302 - val_accuracy: 0.8983\n",
      "\n",
      "Epoch 00004: val_loss did not improve from 0.33008\n",
      "Epoch 5/40\n",
      "399/399 [==============================] - 1s 2ms/step - loss: 0.1125 - accuracy: 0.9613 - val_loss: 0.3302 - val_accuracy: 0.8991\n",
      "\n",
      "Epoch 00005: val_loss did not improve from 0.33008\n",
      "Epoch 6/40\n",
      "399/399 [==============================] - 1s 2ms/step - loss: 0.1123 - accuracy: 0.9616 - val_loss: 0.3300 - val_accuracy: 0.8993\n",
      "\n",
      "Epoch 00006: val_loss improved from 0.33008 to 0.33002, saving model to /Users/f2hard3/Workspace/deep-learning-cnn/develop/weights.06-0.33.hdf5\n",
      "Epoch 7/40\n",
      "399/399 [==============================] - 1s 2ms/step - loss: 0.1122 - accuracy: 0.9611 - val_loss: 0.3306 - val_accuracy: 0.8981\n",
      "\n",
      "Epoch 00007: val_loss did not improve from 0.33002\n",
      "\n",
      "Epoch 00007: ReduceLROnPlateau reducing learning rate to 3.913539212589967e-06.\n",
      "Epoch 8/40\n",
      "399/399 [==============================] - 1s 2ms/step - loss: 0.1117 - accuracy: 0.9616 - val_loss: 0.3302 - val_accuracy: 0.8993\n",
      "\n",
      "Epoch 00008: val_loss did not improve from 0.33002\n",
      "Epoch 9/40\n",
      "399/399 [==============================] - 1s 2ms/step - loss: 0.1116 - accuracy: 0.9615 - val_loss: 0.3309 - val_accuracy: 0.8996\n",
      "\n",
      "Epoch 00009: val_loss did not improve from 0.33002\n",
      "Epoch 10/40\n",
      "399/399 [==============================] - 1s 2ms/step - loss: 0.1116 - accuracy: 0.9618 - val_loss: 0.3304 - val_accuracy: 0.8992\n",
      "\n",
      "Epoch 00010: val_loss did not improve from 0.33002\n",
      "Epoch 11/40\n",
      "399/399 [==============================] - 1s 2ms/step - loss: 0.1116 - accuracy: 0.9616 - val_loss: 0.3308 - val_accuracy: 0.8991\n",
      "\n",
      "Epoch 00011: val_loss did not improve from 0.33002\n",
      "Epoch 12/40\n",
      "399/399 [==============================] - 1s 2ms/step - loss: 0.1115 - accuracy: 0.9615 - val_loss: 0.3307 - val_accuracy: 0.8993\n",
      "\n",
      "Epoch 00012: val_loss did not improve from 0.33002\n",
      "\n",
      "Epoch 00012: ReduceLROnPlateau reducing learning rate to 1.2914679791720119e-06.\n",
      "Epoch 13/40\n",
      "399/399 [==============================] - 1s 2ms/step - loss: 0.1113 - accuracy: 0.9618 - val_loss: 0.3306 - val_accuracy: 0.8996\n",
      "\n",
      "Epoch 00013: val_loss did not improve from 0.33002\n",
      "Epoch 14/40\n",
      "399/399 [==============================] - 1s 2ms/step - loss: 0.1113 - accuracy: 0.9617 - val_loss: 0.3307 - val_accuracy: 0.8996\n",
      "\n",
      "Epoch 00014: val_loss did not improve from 0.33002\n",
      "Epoch 00014: early stopping\n"
     ]
    }
   ],
   "source": [
    "mcp_cb = ModelCheckpoint(filepath='/Users/f2hard3/Workspace/deep-learning-cnn/develop/weights.{epoch:02d}-{val_loss:.2f}.hdf5', monitor='val_loss', \n",
    "                        save_best_only=True, save_weights_only=True, mode='min', period=1, verbose=1)\n",
    "rlr_cb = ReduceLROnPlateau(monitor='val_loss', factor=0.33, patience=5, mode='min', verbose=1)\n",
    "es_cb = EarlyStopping(monitor='val_loss', patience=8, mode='min', verbose=1)\n",
    "\n",
    "history = model.fit(x=tr_images, y=tr_oh_labels, batch_size=128, epochs=40, validation_data=(val_images, val_oh_labels), callbacks=[mcp_cb, rlr_cb, es_cb])"
   ]
  },
  {
   "cell_type": "code",
   "execution_count": null,
   "metadata": {},
   "outputs": [],
   "source": []
  }
 ],
 "metadata": {
  "kernelspec": {
   "display_name": "Python 3.9.7 ('base')",
   "language": "python",
   "name": "python3"
  },
  "language_info": {
   "codemirror_mode": {
    "name": "ipython",
    "version": 3
   },
   "file_extension": ".py",
   "mimetype": "text/x-python",
   "name": "python",
   "nbconvert_exporter": "python",
   "pygments_lexer": "ipython3",
   "version": "3.9.7"
  },
  "orig_nbformat": 4,
  "vscode": {
   "interpreter": {
    "hash": "3067ead486e059ec00ffe7555bdb889e6e264a24dc711bf108106cc7baee8d5d"
   }
  }
 },
 "nbformat": 4,
 "nbformat_minor": 2
}
