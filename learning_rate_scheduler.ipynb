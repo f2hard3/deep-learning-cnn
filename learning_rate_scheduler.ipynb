{
 "cells": [
  {
   "cell_type": "code",
   "execution_count": 1,
   "metadata": {},
   "outputs": [],
   "source": [
    "import tensorflow as tf\n",
    "import numpy as np\n",
    "\n",
    "def scheduler_exp(epoch, lr):\n",
    "  if epoch < 1:\n",
    "    return lr\n",
    "  else:\n",
    "    return lr * np.exp(-1.0)"
   ]
  },
  {
   "cell_type": "code",
   "execution_count": 5,
   "metadata": {},
   "outputs": [
    {
     "name": "stdout",
     "output_type": "stream",
     "text": [
      "start learning rate: 0.01\n",
      "Epoch 1/15\n",
      "\n",
      "Epoch 00001: LearningRateScheduler reducing learning rate to 0.009999999776482582.\n",
      "1/1 [==============================] - 0s 200ms/step - loss: 2386.1523\n",
      "Epoch 2/15\n",
      "\n",
      "Epoch 00002: LearningRateScheduler reducing learning rate to 0.0036787943294869607.\n",
      "1/1 [==============================] - 0s 2ms/step - loss: 40188472.0000\n",
      "Epoch 3/15\n",
      "\n",
      "Epoch 00003: LearningRateScheduler reducing learning rate to 0.0013533527735202996.\n",
      "1/1 [==============================] - 0s 2ms/step - loss: 89527156736.0000\n",
      "Epoch 4/15\n",
      "\n",
      "Epoch 00004: LearningRateScheduler reducing learning rate to 0.0004978706704056293.\n",
      "1/1 [==============================] - 0s 3ms/step - loss: 25061541019648.0000\n",
      "Epoch 5/15\n",
      "\n",
      "Epoch 00005: LearningRateScheduler reducing learning rate to 0.00018315638425888493.\n",
      "1/1 [==============================] - 0s 3ms/step - loss: 764447471697920.0000\n",
      "Epoch 6/15\n",
      "\n",
      "Epoch 00006: LearningRateScheduler reducing learning rate to 6.73794688923822e-05.\n",
      "1/1 [==============================] - 0s 2ms/step - loss: 1497576041873408.0000\n",
      "Epoch 7/15\n",
      "\n",
      "Epoch 00007: LearningRateScheduler reducing learning rate to 2.4787522192144945e-05.\n",
      "1/1 [==============================] - 0s 5ms/step - loss: 20576315899904.0000\n",
      "Epoch 8/15\n",
      "\n",
      "Epoch 00008: LearningRateScheduler reducing learning rate to 9.118819519637878e-06.\n",
      "1/1 [==============================] - 0s 3ms/step - loss: 9381812895744.0000\n",
      "Epoch 9/15\n",
      "\n",
      "Epoch 00009: LearningRateScheduler reducing learning rate to 3.35462619776653e-06.\n",
      "1/1 [==============================] - 0s 2ms/step - loss: 7274001072128.0000\n",
      "Epoch 10/15\n",
      "\n",
      "Epoch 00010: LearningRateScheduler reducing learning rate to 1.2340980071972145e-06.\n",
      "1/1 [==============================] - 0s 2ms/step - loss: 6648650268672.0000\n",
      "Epoch 11/15\n",
      "\n",
      "Epoch 00011: LearningRateScheduler reducing learning rate to 4.539992906826829e-07.\n",
      "1/1 [==============================] - 0s 2ms/step - loss: 6435387211776.0000\n",
      "Epoch 12/15\n",
      "\n",
      "Epoch 00012: LearningRateScheduler reducing learning rate to 1.670170056471376e-07.\n",
      "1/1 [==============================] - 0s 3ms/step - loss: 6359058743296.0000\n",
      "Epoch 13/15\n",
      "\n",
      "Epoch 00013: LearningRateScheduler reducing learning rate to 6.144212299791121e-08.\n",
      "1/1 [==============================] - 0s 4ms/step - loss: 6331258896384.0000\n",
      "Epoch 14/15\n",
      "\n",
      "Epoch 00014: LearningRateScheduler reducing learning rate to 2.2603293690026104e-08.\n",
      "1/1 [==============================] - 0s 3ms/step - loss: 6321070407680.0000\n",
      "Epoch 15/15\n",
      "\n",
      "Epoch 00015: LearningRateScheduler reducing learning rate to 8.31528696638835e-09.\n",
      "1/1 [==============================] - 0s 3ms/step - loss: 6317326467072.0000\n"
     ]
    }
   ],
   "source": [
    "from tensorflow.keras.models import Sequential\n",
    "from tensorflow.keras.layers import Dense\n",
    "from tensorflow.keras.optimizers import SGD\n",
    "from tensorflow.keras.callbacks import LearningRateScheduler\n",
    "\n",
    "model = Sequential([Dense(10)])\n",
    "model.compile(optimizer=SGD(), loss='mse')\n",
    "print('start learning rate:', round(model.optimizer.lr.numpy(), 5))\n",
    "lr_scheduler = LearningRateScheduler(scheduler_exp, verbose=1)\n",
    "history = model.fit(np.arange(100).reshape(5, 20), np.zeros(5), epochs=15, callbacks=[lr_scheduler], verbose=1)"
   ]
  },
  {
   "cell_type": "code",
   "execution_count": 13,
   "metadata": {},
   "outputs": [],
   "source": [
    "import tensorflow as tf\n",
    "import numpy as np\n",
    "\n",
    "def scheduler_exp(epoch):\n",
    "  initial_lr = 0.01\n",
    "  if epoch < 1:\n",
    "    return initial_lr\n",
    "  else:\n",
    "    return initial_lr * np.exp(-1.0)**epoch"
   ]
  },
  {
   "cell_type": "code",
   "execution_count": 14,
   "metadata": {},
   "outputs": [
    {
     "name": "stdout",
     "output_type": "stream",
     "text": [
      "start learning rate: 0.01\n",
      "Epoch 1/15\n",
      "\n",
      "Epoch 00001: LearningRateScheduler reducing learning rate to 0.01.\n",
      "1/1 [==============================] - 0s 171ms/step - loss: 5410.7993\n",
      "Epoch 2/15\n",
      "\n",
      "Epoch 00002: LearningRateScheduler reducing learning rate to 0.0036787944117144234.\n",
      "1/1 [==============================] - 0s 4ms/step - loss: 91285000.0000\n",
      "Epoch 3/15\n",
      "\n",
      "Epoch 00003: LearningRateScheduler reducing learning rate to 0.0013533528323661271.\n",
      "1/1 [==============================] - 0s 2ms/step - loss: 203354062848.0000\n",
      "Epoch 4/15\n",
      "\n",
      "Epoch 00004: LearningRateScheduler reducing learning rate to 0.0004978706836786395.\n",
      "1/1 [==============================] - 0s 2ms/step - loss: 56925370712064.0000\n",
      "Epoch 5/15\n",
      "\n",
      "Epoch 00005: LearningRateScheduler reducing learning rate to 0.00018315638888734184.\n",
      "1/1 [==============================] - 0s 2ms/step - loss: 1736384142376960.0000\n",
      "Epoch 6/15\n",
      "\n",
      "Epoch 00006: LearningRateScheduler reducing learning rate to 6.737946999085469e-05.\n",
      "1/1 [==============================] - 0s 2ms/step - loss: 3401630204559360.0000\n",
      "Epoch 7/15\n",
      "\n",
      "Epoch 00007: LearningRateScheduler reducing learning rate to 2.4787521766663588e-05.\n",
      "1/1 [==============================] - 0s 2ms/step - loss: 46737544708096.0000\n",
      "Epoch 8/15\n",
      "\n",
      "Epoch 00008: LearningRateScheduler reducing learning rate to 9.118819655545164e-06.\n",
      "1/1 [==============================] - 0s 2ms/step - loss: 21310071635968.0000\n",
      "Epoch 9/15\n",
      "\n",
      "Epoch 00009: LearningRateScheduler reducing learning rate to 3.354626279025119e-06.\n",
      "1/1 [==============================] - 0s 4ms/step - loss: 16522339680256.0000\n",
      "Epoch 10/15\n",
      "\n",
      "Epoch 00010: LearningRateScheduler reducing learning rate to 1.234098040866796e-06.\n",
      "1/1 [==============================] - 0s 3ms/step - loss: 15101904027648.0000\n",
      "Epoch 11/15\n",
      "\n",
      "Epoch 00011: LearningRateScheduler reducing learning rate to 4.539992976248487e-07.\n",
      "1/1 [==============================] - 0s 4ms/step - loss: 14617495470080.0000\n",
      "Epoch 12/15\n",
      "\n",
      "Epoch 00012: LearningRateScheduler reducing learning rate to 1.6701700790245666e-07.\n",
      "1/1 [==============================] - 0s 3ms/step - loss: 14444115525632.0000\n",
      "Epoch 13/15\n",
      "\n",
      "Epoch 00013: LearningRateScheduler reducing learning rate to 6.144212353328212e-08.\n",
      "1/1 [==============================] - 0s 6ms/step - loss: 14380973424640.0000\n",
      "Epoch 14/15\n",
      "\n",
      "Epoch 00014: LearningRateScheduler reducing learning rate to 2.2603294069810555e-08.\n",
      "1/1 [==============================] - 0s 3ms/step - loss: 14357827158016.0000\n",
      "Epoch 15/15\n",
      "\n",
      "Epoch 00015: LearningRateScheduler reducing learning rate to 8.315287191035682e-09.\n",
      "1/1 [==============================] - 0s 3ms/step - loss: 14349328449536.0000\n"
     ]
    }
   ],
   "source": [
    "from tensorflow.keras.models import Sequential\n",
    "from tensorflow.keras.layers import Dense\n",
    "from tensorflow.keras.optimizers import SGD\n",
    "from tensorflow.keras.callbacks import LearningRateScheduler\n",
    "\n",
    "model = Sequential([Dense(10)])\n",
    "model.compile(optimizer=SGD(), loss='mse')\n",
    "print('start learning rate:', round(model.optimizer.lr.numpy(), 5))\n",
    "lr_scheduler = LearningRateScheduler(scheduler_exp, verbose=1)\n",
    "history = model.fit(np.arange(100).reshape(5, 20), np.zeros(5), epochs=15, callbacks=[lr_scheduler], verbose=1)"
   ]
  },
  {
   "cell_type": "code",
   "execution_count": 15,
   "metadata": {},
   "outputs": [],
   "source": [
    "epoch_list = range(30)\n",
    "lr_list = [scheduler_exp(epoch) for epoch in epoch_list]"
   ]
  },
  {
   "cell_type": "code",
   "execution_count": 18,
   "metadata": {},
   "outputs": [],
   "source": [
    "import matplotlib.pyplot as plt\n",
    "\n",
    "def plot_scheduler(epoch_list, lr_list, title=None):\n",
    "  plt.figure(figsize=(6, 4))\n",
    "  plt.plot(epoch_list, lr_list)\n",
    "  plt.xlabel('epoch')\n",
    "  plt.ylabel('learning rate')\n",
    "  plt.title(title)"
   ]
  },
  {
   "cell_type": "code",
   "execution_count": 19,
   "metadata": {},
   "outputs": [
    {
     "data": {
      "image/png": "[encoded data removed]",
      "text/plain": [
       "<Figure size 432x288 with 1 Axes>"
      ]
     },
     "metadata": {
      "needs_background": "light"
     },
     "output_type": "display_data"
    }
   ],
   "source": [
    "plot_scheduler(epoch_list, lr_list, 'exponentially decay')"
   ]
  },
  {
   "cell_type": "code",
   "execution_count": 20,
   "metadata": {},
   "outputs": [],
   "source": [
    "def step_decay(epoch):\n",
    "  initial_lr = 0.1\n",
    "  drop = 0.5\n",
    "  epochs_drop = 5.0\n",
    "  lr = initial_lr * (drop ** np.floor(epoch/epochs_drop))\n",
    "  print(f'epoch: {epoch}, lr: {lr}')\n",
    "  \n",
    "  return lr"
   ]
  },
  {
   "cell_type": "code",
   "execution_count": 21,
   "metadata": {},
   "outputs": [
    {
     "name": "stdout",
     "output_type": "stream",
     "text": [
      "epoch: 0, lr: 0.1\n",
      "epoch: 1, lr: 0.1\n",
      "epoch: 2, lr: 0.1\n",
      "epoch: 3, lr: 0.1\n",
      "epoch: 4, lr: 0.1\n",
      "epoch: 5, lr: 0.05\n",
      "epoch: 6, lr: 0.05\n",
      "epoch: 7, lr: 0.05\n",
      "epoch: 8, lr: 0.05\n",
      "epoch: 9, lr: 0.05\n",
      "epoch: 10, lr: 0.025\n",
      "epoch: 11, lr: 0.025\n",
      "epoch: 12, lr: 0.025\n",
      "epoch: 13, lr: 0.025\n",
      "epoch: 14, lr: 0.025\n",
      "epoch: 15, lr: 0.0125\n",
      "epoch: 16, lr: 0.0125\n",
      "epoch: 17, lr: 0.0125\n",
      "epoch: 18, lr: 0.0125\n",
      "epoch: 19, lr: 0.0125\n",
      "epoch: 20, lr: 0.00625\n",
      "epoch: 21, lr: 0.00625\n",
      "epoch: 22, lr: 0.00625\n",
      "epoch: 23, lr: 0.00625\n",
      "epoch: 24, lr: 0.00625\n",
      "epoch: 25, lr: 0.003125\n",
      "epoch: 26, lr: 0.003125\n",
      "epoch: 27, lr: 0.003125\n",
      "epoch: 28, lr: 0.003125\n",
      "epoch: 29, lr: 0.003125\n"
     ]
    },
    {
     "data": {
      "image/png": "[encoded data removed]",
      "text/plain": [
       "<Figure size 432x288 with 1 Axes>"
      ]
     },
     "metadata": {
      "needs_background": "light"
     },
     "output_type": "display_data"
    }
   ],
   "source": [
    "lr_list = [step_decay(epoch) for epoch in epoch_list]\n",
    "plot_scheduler(epoch_list, lr_list, title='Step Decay')"
   ]
  },
  {
   "cell_type": "code",
   "execution_count": 22,
   "metadata": {},
   "outputs": [
    {
     "name": "stdout",
     "output_type": "stream",
     "text": [
      "start learning rate: 0.01\n",
      "Epoch 1/15\n",
      "epoch: 0, lr: 0.1\n",
      "\n",
      "Epoch 00001: LearningRateScheduler reducing learning rate to 0.1.\n",
      "1/1 [==============================] - 0s 167ms/step - loss: 8230.1689\n",
      "Epoch 2/15\n",
      "epoch: 1, lr: 0.1\n",
      "\n",
      "Epoch 00002: LearningRateScheduler reducing learning rate to 0.1.\n",
      "1/1 [==============================] - 0s 3ms/step - loss: 14087798784.0000\n",
      "Epoch 3/15\n",
      "epoch: 2, lr: 0.1\n",
      "\n",
      "Epoch 00003: LearningRateScheduler reducing learning rate to 0.1.\n",
      "1/1 [==============================] - 0s 2ms/step - loss: 24145322590601216.0000\n",
      "Epoch 4/15\n",
      "epoch: 3, lr: 0.1\n",
      "\n",
      "Epoch 00004: LearningRateScheduler reducing learning rate to 0.1.\n",
      "1/1 [==============================] - 0s 2ms/step - loss: 41383090587147731730432.0000\n",
      "Epoch 5/15\n",
      "epoch: 4, lr: 0.1\n",
      "\n",
      "Epoch 00005: LearningRateScheduler reducing learning rate to 0.1.\n",
      "1/1 [==============================] - 0s 3ms/step - loss: 70927186710676075236909121536.0000\n",
      "Epoch 6/15\n",
      "epoch: 5, lr: 0.05\n",
      "\n",
      "Epoch 00006: LearningRateScheduler reducing learning rate to 0.05.\n",
      "1/1 [==============================] - 0s 4ms/step - loss: 121563344916469229348008391671283712.0000\n",
      "Epoch 7/15\n",
      "epoch: 6, lr: 0.05\n",
      "\n",
      "Epoch 00007: LearningRateScheduler reducing learning rate to 0.05.\n",
      "1/1 [==============================] - 0s 3ms/step - loss: inf\n",
      "Epoch 8/15\n",
      "epoch: 7, lr: 0.05\n",
      "\n",
      "Epoch 00008: LearningRateScheduler reducing learning rate to 0.05.\n",
      "1/1 [==============================] - 0s 4ms/step - loss: inf\n",
      "Epoch 9/15\n",
      "epoch: 8, lr: 0.05\n",
      "\n",
      "Epoch 00009: LearningRateScheduler reducing learning rate to 0.05.\n",
      "1/1 [==============================] - 0s 2ms/step - loss: inf\n",
      "Epoch 10/15\n",
      "epoch: 9, lr: 0.05\n",
      "\n",
      "Epoch 00010: LearningRateScheduler reducing learning rate to 0.05.\n",
      "1/1 [==============================] - 0s 2ms/step - loss: inf\n",
      "Epoch 11/15\n",
      "epoch: 10, lr: 0.025\n",
      "\n",
      "Epoch 00011: LearningRateScheduler reducing learning rate to 0.025.\n",
      "1/1 [==============================] - 0s 3ms/step - loss: inf\n",
      "Epoch 12/15\n",
      "epoch: 11, lr: 0.025\n",
      "\n",
      "Epoch 00012: LearningRateScheduler reducing learning rate to 0.025.\n",
      "1/1 [==============================] - 0s 2ms/step - loss: inf\n",
      "Epoch 13/15\n",
      "epoch: 12, lr: 0.025\n",
      "\n",
      "Epoch 00013: LearningRateScheduler reducing learning rate to 0.025.\n",
      "1/1 [==============================] - 0s 3ms/step - loss: inf\n",
      "Epoch 14/15\n",
      "epoch: 13, lr: 0.025\n",
      "\n",
      "Epoch 00014: LearningRateScheduler reducing learning rate to 0.025.\n",
      "1/1 [==============================] - 0s 8ms/step - loss: inf\n",
      "Epoch 15/15\n",
      "epoch: 14, lr: 0.025\n",
      "\n",
      "Epoch 00015: LearningRateScheduler reducing learning rate to 0.025.\n",
      "1/1 [==============================] - 0s 3ms/step - loss: nan\n"
     ]
    }
   ],
   "source": [
    "from tensorflow.keras.models import Sequential\n",
    "from tensorflow.keras.layers import Dense\n",
    "from tensorflow.keras.optimizers import SGD\n",
    "from tensorflow.keras.callbacks import LearningRateScheduler\n",
    "\n",
    "model = Sequential([Dense(10)])\n",
    "model.compile(optimizer=SGD(), loss='mse')\n",
    "print('start learning rate:', round(model.optimizer.lr.numpy(), 5))\n",
    "lr_scheduler = LearningRateScheduler(step_decay, verbose=1)\n",
    "history = model.fit(np.arange(100).reshape(5, 20), np.zeros(5), epochs=15, callbacks=[lr_scheduler], verbose=1)"
   ]
  },
  {
   "cell_type": "code",
   "execution_count": 23,
   "metadata": {},
   "outputs": [
    {
     "data": {
      "text/plain": [
       "tensorflow.python.keras.optimizer_v2.learning_rate_schedule.CosineDecay"
      ]
     },
     "execution_count": 23,
     "metadata": {},
     "output_type": "execute_result"
    }
   ],
   "source": [
    "from tensorflow.keras.experimental import CosineDecay\n",
    "\n",
    "cos_decay = CosineDecay(initial_learning_rate=1e-2, decay_steps=30, alpha=1e-2)\n",
    "\n",
    "type(cos_decay)"
   ]
  },
  {
   "cell_type": "code",
   "execution_count": 26,
   "metadata": {},
   "outputs": [
    {
     "data": {
      "image/png": "[encoded data removed]",
      "text/plain": [
       "<Figure size 432x288 with 1 Axes>"
      ]
     },
     "metadata": {
      "needs_background": "light"
     },
     "output_type": "display_data"
    }
   ],
   "source": [
    "steps_list = range(0, 30)\n",
    "lr_list = cos_decay(steps_list)\n",
    "\n",
    "plot_scheduler(steps_list, lr_list, 'Cosine Decay')"
   ]
  },
  {
   "cell_type": "code",
   "execution_count": 27,
   "metadata": {},
   "outputs": [
    {
     "name": "stdout",
     "output_type": "stream",
     "text": [
      "Epoch 1/15\n",
      "1/1 [==============================] - 0s 248ms/step - loss: 9379.4160\n",
      "Epoch 2/15\n",
      "1/1 [==============================] - 0s 2ms/step - loss: 7636.6978\n",
      "Epoch 3/15\n",
      "1/1 [==============================] - 0s 2ms/step - loss: 6162.2461\n",
      "Epoch 4/15\n",
      "1/1 [==============================] - 0s 2ms/step - loss: 4934.3789\n",
      "Epoch 5/15\n",
      "1/1 [==============================] - 0s 2ms/step - loss: 3921.6099\n",
      "Epoch 6/15\n",
      "1/1 [==============================] - 0s 2ms/step - loss: 3099.9470\n",
      "Epoch 7/15\n",
      "1/1 [==============================] - 0s 2ms/step - loss: 2447.0132\n",
      "Epoch 8/15\n",
      "1/1 [==============================] - 0s 2ms/step - loss: 1937.7068\n",
      "Epoch 9/15\n",
      "1/1 [==============================] - 0s 2ms/step - loss: 1545.1188\n",
      "Epoch 10/15\n",
      "1/1 [==============================] - 0s 2ms/step - loss: 1243.8196\n",
      "Epoch 11/15\n",
      "1/1 [==============================] - 0s 4ms/step - loss: 1012.4701\n",
      "Epoch 12/15\n",
      "1/1 [==============================] - 0s 2ms/step - loss: 834.2487\n",
      "Epoch 13/15\n",
      "1/1 [==============================] - 0s 2ms/step - loss: 696.0859\n",
      "Epoch 14/15\n",
      "1/1 [==============================] - 0s 6ms/step - loss: 587.9872\n",
      "Epoch 15/15\n",
      "1/1 [==============================] - 0s 1ms/step - loss: 502.4865\n"
     ]
    }
   ],
   "source": [
    "model = Sequential([Dense(10)])\n",
    "\n",
    "model.compile(tf.keras.optimizers.Adam(learning_rate=cos_decay), loss='mse')\n",
    "\n",
    "history = model.fit(np.arange(100).reshape(5, 20), np.zeros(5), epochs=15, verbose=1)"
   ]
  },
  {
   "cell_type": "code",
   "execution_count": 28,
   "metadata": {},
   "outputs": [],
   "source": [
    "decay_steps = 30\n",
    "alpha = 0.0\n",
    "initial_learning_rate = 0.01\n",
    "\n",
    "def decayed_learning_rate(step):\n",
    "  step = min(step, decay_steps)\n",
    "  cosine_decay = 0.5 * (1 + np.cos(np.pi * step / decay_steps))\n",
    "  decayed = (1 - alpha) * cosine_decay + alpha\n",
    "  \n",
    "  return initial_learning_rate * decayed"
   ]
  },
  {
   "cell_type": "code",
   "execution_count": 29,
   "metadata": {},
   "outputs": [
    {
     "data": {
      "image/png": "[encoded data removed]",
      "text/plain": [
       "<Figure size 432x288 with 1 Axes>"
      ]
     },
     "metadata": {
      "needs_background": "light"
     },
     "output_type": "display_data"
    }
   ],
   "source": [
    "steps_list = range(30)\n",
    "lr_list = [decayed_learning_rate(step) for step in steps_list]\n",
    "\n",
    "plot_scheduler(steps_list, lr_list, 'Cosine Decay')"
   ]
  },
  {
   "cell_type": "code",
   "execution_count": 30,
   "metadata": {},
   "outputs": [
    {
     "data": {
      "image/png": "[encoded data removed]",
      "text/plain": [
       "<Figure size 432x288 with 1 Axes>"
      ]
     },
     "metadata": {
      "needs_background": "light"
     },
     "output_type": "display_data"
    }
   ],
   "source": [
    "from tensorflow.keras.experimental import CosineDecayRestarts\n",
    "\n",
    "cos_decay_restarts = CosineDecayRestarts(initial_learning_rate=0.01, first_decay_steps=10, t_mul=1, m_mul=0.9, alpha=0)\n",
    "steps_list = range(120)\n",
    "lr_list = cos_decay_restarts(steps_list)\n",
    "\n",
    "plot_scheduler(steps_list, lr_list, 'Cosine Decay Restarts')"
   ]
  },
  {
   "cell_type": "code",
   "execution_count": 31,
   "metadata": {},
   "outputs": [
    {
     "name": "stdout",
     "output_type": "stream",
     "text": [
      "Epoch 1/15\n",
      "1/1 [==============================] - 0s 268ms/step - loss: 8316.5518\n",
      "Epoch 2/15\n",
      "1/1 [==============================] - 0s 2ms/step - loss: 6733.2373\n",
      "Epoch 3/15\n",
      "1/1 [==============================] - 0s 2ms/step - loss: 5368.5220\n",
      "Epoch 4/15\n",
      "1/1 [==============================] - 0s 1ms/step - loss: 4298.3613\n",
      "Epoch 5/15\n",
      "1/1 [==============================] - 0s 2ms/step - loss: 3502.8977\n",
      "Epoch 6/15\n",
      "1/1 [==============================] - 0s 1ms/step - loss: 2934.2439\n",
      "Epoch 7/15\n",
      "1/1 [==============================] - 0s 2ms/step - loss: 2549.5234\n",
      "Epoch 8/15\n",
      "1/1 [==============================] - 0s 2ms/step - loss: 2308.3572\n",
      "Epoch 9/15\n",
      "1/1 [==============================] - 0s 2ms/step - loss: 2174.1292\n",
      "Epoch 10/15\n",
      "1/1 [==============================] - 0s 3ms/step - loss: 2114.5007\n",
      "Epoch 11/15\n",
      "1/1 [==============================] - 0s 2ms/step - loss: 2099.5334\n",
      "Epoch 12/15\n",
      "1/1 [==============================] - 0s 13ms/step - loss: 1604.5675\n",
      "Epoch 13/15\n",
      "1/1 [==============================] - 0s 7ms/step - loss: 1219.2725\n",
      "Epoch 14/15\n",
      "1/1 [==============================] - 0s 3ms/step - loss: 937.6364\n",
      "Epoch 15/15\n",
      "1/1 [==============================] - 0s 65ms/step - loss: 743.2817\n"
     ]
    }
   ],
   "source": [
    "model = Sequential([Dense(10)])\n",
    "\n",
    "model.compile(tf.keras.optimizers.Adam(learning_rate=cos_decay_restarts), loss='mse')\n",
    "\n",
    "history = model.fit(np.arange(100).reshape(5, 20), np.zeros(5), epochs=15, verbose=1)"
   ]
  },
  {
   "cell_type": "code",
   "execution_count": 36,
   "metadata": {},
   "outputs": [
    {
     "name": "stdout",
     "output_type": "stream",
     "text": [
      "epoch: 0 lr: 1e-05\n",
      "epoch: 1 lr: 0.0020080000000000002\n",
      "epoch: 2 lr: 0.004006\n",
      "epoch: 3 lr: 0.006004000000000001\n",
      "epoch: 4 lr: 0.008002\n",
      "epoch: 5 lr: 0.01\n",
      "epoch: 6 lr: 0.01\n",
      "epoch: 7 lr: 0.01\n",
      "epoch: 8 lr: 0.01\n",
      "epoch: 9 lr: 0.01\n",
      "epoch: 10 lr: 0.01\n",
      "epoch: 11 lr: 0.01\n",
      "epoch: 12 lr: 0.01\n",
      "epoch: 13 lr: 0.01\n",
      "epoch: 14 lr: 0.01\n",
      "epoch: 15 lr: 0.01\n",
      "epoch: 16 lr: 0.01\n",
      "epoch: 17 lr: 0.0075\n",
      "epoch: 18 lr: 0.0075\n",
      "epoch: 19 lr: 0.005625\n",
      "epoch: 20 lr: 0.005625\n",
      "epoch: 21 lr: 0.00421875\n",
      "epoch: 22 lr: 0.00421875\n",
      "epoch: 23 lr: 0.0031640625\n",
      "epoch: 24 lr: 0.0031640625\n",
      "epoch: 25 lr: 0.002373046875\n",
      "epoch: 26 lr: 0.002373046875\n",
      "epoch: 27 lr: 0.00177978515625\n",
      "epoch: 28 lr: 0.00177978515625\n",
      "epoch: 29 lr: 0.0013348388671875\n"
     ]
    },
    {
     "data": {
      "image/png": "[encoded data removed]",
      "text/plain": [
       "<Figure size 432x288 with 1 Axes>"
      ]
     },
     "metadata": {
      "needs_background": "light"
     },
     "output_type": "display_data"
    }
   ],
   "source": [
    "LR_START = 1e-5\n",
    "LR_MAX = 1e-2\n",
    "LR_RAMPUP_EPOCHS = 5\n",
    "LR_SUSTAIN_EPOCHS = 10\n",
    "LR_STEP_DECAY = 0.75\n",
    "\n",
    "def lrfn(epoch):\n",
    "    if epoch < LR_RAMPUP_EPOCHS:\n",
    "        lr = ((LR_MAX - LR_START) / LR_RAMPUP_EPOCHS) * epoch + LR_START\n",
    "    elif epoch < LR_RAMPUP_EPOCHS + LR_SUSTAIN_EPOCHS:\n",
    "        lr = LR_MAX\n",
    "    else:\n",
    "        lr = LR_MAX * LR_STEP_DECAY**((epoch - LR_RAMPUP_EPOCHS - LR_SUSTAIN_EPOCHS)//2)\n",
    "    print('epoch:', epoch, 'lr:', lr)\n",
    "    return lr\n",
    "\n",
    "lr_list = [lrfn(epoch) for epoch  in epoch_list]\n",
    "\n",
    "plot_scheduler(epoch_list, lr_list, title='RampUp')"
   ]
  },
  {
   "cell_type": "code",
   "execution_count": 37,
   "metadata": {},
   "outputs": [
    {
     "name": "stdout",
     "output_type": "stream",
     "text": [
      "epoch: 0 lr: 1e-05\n",
      "epoch: 1 lr: 0.00334\n",
      "epoch: 2 lr: 0.00667\n",
      "epoch: 3 lr: 0.01\n",
      "epoch: 4 lr: 0.01\n",
      "epoch: 5 lr: 0.01\n",
      "epoch: 6 lr: 0.01\n",
      "epoch: 7 lr: 0.01\n",
      "epoch: 8 lr: 0.0075\n",
      "epoch: 9 lr: 0.0075\n",
      "epoch: 10 lr: 0.005625\n",
      "epoch: 11 lr: 0.005625\n",
      "epoch: 12 lr: 0.00421875\n",
      "epoch: 13 lr: 0.00421875\n",
      "epoch: 14 lr: 0.0031640625\n",
      "epoch: 15 lr: 0.0031640625\n",
      "epoch: 16 lr: 0.002373046875\n",
      "epoch: 17 lr: 0.002373046875\n",
      "epoch: 18 lr: 0.00177978515625\n",
      "epoch: 19 lr: 0.00177978515625\n",
      "epoch: 20 lr: 0.0013348388671875\n",
      "epoch: 21 lr: 0.0013348388671875\n",
      "epoch: 22 lr: 0.001001129150390625\n",
      "epoch: 23 lr: 0.001001129150390625\n",
      "epoch: 24 lr: 0.0007508468627929688\n",
      "epoch: 25 lr: 0.0007508468627929688\n",
      "epoch: 26 lr: 0.0005631351470947266\n",
      "epoch: 27 lr: 0.0005631351470947266\n",
      "epoch: 28 lr: 0.00042235136032104493\n",
      "epoch: 29 lr: 0.00042235136032104493\n"
     ]
    },
    {
     "data": {
      "image/png": "[encoded data removed]",
      "text/plain": [
       "<Figure size 432x288 with 1 Axes>"
      ]
     },
     "metadata": {
      "needs_background": "light"
     },
     "output_type": "display_data"
    }
   ],
   "source": [
    "def lrfn(epoch):\n",
    "  LR_START = 1e-5\n",
    "  LR_MAX = 1e-2\n",
    "  LR_RAMPUP_EPOCHS = 3\n",
    "  LR_SUSTAIN_EPOCHS = 3\n",
    "  LR_STEP_DECAY = 0.75\n",
    "\n",
    "  def calc_fn(epoch):\n",
    "      if epoch < LR_RAMPUP_EPOCHS:\n",
    "          lr = ((LR_MAX - LR_START) / LR_RAMPUP_EPOCHS) * epoch + LR_START\n",
    "      elif epoch < LR_RAMPUP_EPOCHS + LR_SUSTAIN_EPOCHS:\n",
    "          lr = LR_MAX\n",
    "      else:\n",
    "          lr = LR_MAX * LR_STEP_DECAY**((epoch - LR_RAMPUP_EPOCHS - LR_SUSTAIN_EPOCHS)//2)\n",
    "      print('epoch:', epoch, 'lr:', lr)\n",
    "      \n",
    "      return lr\n",
    "\n",
    "  return calc_fn(epoch)\n",
    "\n",
    "lr_list = [lrfn(epoch) for epoch  in epoch_list]\n",
    "\n",
    "plot_scheduler(epoch_list, lr_list, title='RampUp')"
   ]
  },
  {
   "cell_type": "code",
   "execution_count": 38,
   "metadata": {},
   "outputs": [
    {
     "name": "stdout",
     "output_type": "stream",
     "text": [
      "Epoch 1/30\n",
      "epoch: 0 lr: 1e-05\n",
      "1/1 [==============================] - 0s 185ms/step - loss: 2142.3811\n",
      "Epoch 2/30\n",
      "epoch: 1 lr: 0.00334\n",
      "1/1 [==============================] - 0s 3ms/step - loss: 1621.5529\n",
      "Epoch 3/30\n",
      "epoch: 2 lr: 0.00667\n",
      "1/1 [==============================] - 0s 4ms/step - loss: 2936605.5000\n",
      "Epoch 4/30\n",
      "epoch: 3 lr: 0.01\n",
      "1/1 [==============================] - 0s 3ms/step - loss: 21915518976.0000\n",
      "Epoch 5/30\n",
      "epoch: 4 lr: 0.01\n",
      "1/1 [==============================] - 0s 4ms/step - loss: 370467235954688.0000\n",
      "Epoch 6/30\n",
      "epoch: 5 lr: 0.01\n",
      "1/1 [==============================] - 0s 3ms/step - loss: 6262500472951668736.0000\n",
      "Epoch 7/30\n",
      "epoch: 6 lr: 0.01\n",
      "1/1 [==============================] - 0s 5ms/step - loss: 105863405273622572433408.0000\n",
      "Epoch 8/30\n",
      "epoch: 7 lr: 0.01\n",
      "1/1 [==============================] - 0s 4ms/step - loss: 1789550223416417793020526592.0000\n",
      "Epoch 9/30\n",
      "epoch: 8 lr: 0.0075\n",
      "1/1 [==============================] - 0s 3ms/step - loss: 30251149048051282637857293860864.0000\n",
      "Epoch 10/30\n",
      "epoch: 9 lr: 0.0075\n",
      "1/1 [==============================] - 0s 4ms/step - loss: 286175668461795300716988059705409536.0000\n",
      "Epoch 11/30\n",
      "epoch: 10 lr: 0.005625\n",
      "1/1 [==============================] - 0s 3ms/step - loss: inf\n",
      "Epoch 12/30\n",
      "epoch: 11 lr: 0.005625\n",
      "1/1 [==============================] - 0s 3ms/step - loss: inf\n",
      "Epoch 13/30\n",
      "epoch: 12 lr: 0.00421875\n",
      "1/1 [==============================] - 0s 4ms/step - loss: inf\n",
      "Epoch 14/30\n",
      "epoch: 13 lr: 0.00421875\n",
      "1/1 [==============================] - 0s 3ms/step - loss: inf\n",
      "Epoch 15/30\n",
      "epoch: 14 lr: 0.0031640625\n",
      "1/1 [==============================] - 0s 3ms/step - loss: inf\n",
      "Epoch 16/30\n",
      "epoch: 15 lr: 0.0031640625\n",
      "1/1 [==============================] - 0s 7ms/step - loss: inf\n",
      "Epoch 17/30\n",
      "epoch: 16 lr: 0.002373046875\n",
      "1/1 [==============================] - 0s 14ms/step - loss: inf\n",
      "Epoch 18/30\n",
      "epoch: 17 lr: 0.002373046875\n",
      "1/1 [==============================] - 0s 4ms/step - loss: inf\n",
      "Epoch 19/30\n",
      "epoch: 18 lr: 0.00177978515625\n",
      "1/1 [==============================] - 0s 5ms/step - loss: inf\n",
      "Epoch 20/30\n",
      "epoch: 19 lr: 0.00177978515625\n",
      "1/1 [==============================] - 0s 7ms/step - loss: inf\n",
      "Epoch 21/30\n",
      "epoch: 20 lr: 0.0013348388671875\n",
      "1/1 [==============================] - 0s 4ms/step - loss: inf\n",
      "Epoch 22/30\n",
      "epoch: 21 lr: 0.0013348388671875\n",
      "1/1 [==============================] - 0s 3ms/step - loss: inf\n",
      "Epoch 23/30\n",
      "epoch: 22 lr: 0.001001129150390625\n",
      "1/1 [==============================] - 0s 6ms/step - loss: inf\n",
      "Epoch 24/30\n",
      "epoch: 23 lr: 0.001001129150390625\n",
      "1/1 [==============================] - 0s 3ms/step - loss: nan\n",
      "Epoch 25/30\n",
      "epoch: 24 lr: 0.0007508468627929688\n",
      "1/1 [==============================] - 0s 4ms/step - loss: nan\n",
      "Epoch 26/30\n",
      "epoch: 25 lr: 0.0007508468627929688\n",
      "1/1 [==============================] - 0s 7ms/step - loss: nan\n",
      "Epoch 27/30\n",
      "epoch: 26 lr: 0.0005631351470947266\n",
      "1/1 [==============================] - 0s 2ms/step - loss: nan\n",
      "Epoch 28/30\n",
      "epoch: 27 lr: 0.0005631351470947266\n",
      "1/1 [==============================] - 0s 5ms/step - loss: nan\n",
      "Epoch 29/30\n",
      "epoch: 28 lr: 0.00042235136032104493\n",
      "1/1 [==============================] - 0s 6ms/step - loss: nan\n",
      "Epoch 30/30\n",
      "epoch: 29 lr: 0.00042235136032104493\n",
      "1/1 [==============================] - 0s 13ms/step - loss: nan\n"
     ]
    }
   ],
   "source": [
    "model = Sequential([Dense(10)])\n",
    "model.compile(tf.keras.optimizers.SGD(), loss='mse')\n",
    "\n",
    "lr_scheduler = LearningRateScheduler(lrfn)\n",
    "history = model.fit(np.arange(100).reshape(5, 20), np.zeros(5), epochs=30, callbacks=[lr_scheduler], verbose=1)"
   ]
  },
  {
   "cell_type": "code",
   "execution_count": null,
   "metadata": {},
   "outputs": [],
   "source": []
  }
 ],
 "metadata": {
  "kernelspec": {
   "display_name": "Python 3.9.7 ('base')",
   "language": "python",
   "name": "python3"
  },
  "language_info": {
   "codemirror_mode": {
    "name": "ipython",
    "version": 3
   },
   "file_extension": ".py",
   "mimetype": "text/x-python",
   "name": "python",
   "nbconvert_exporter": "python",
   "pygments_lexer": "ipython3",
   "version": "3.9.7"
  },
  "orig_nbformat": 4,
  "vscode": {
   "interpreter": {
    "hash": "3067ead486e059ec00ffe7555bdb889e6e264a24dc711bf108106cc7baee8d5d"
   }
  }
 },
 "nbformat": 4,
 "nbformat_minor": 2
}
